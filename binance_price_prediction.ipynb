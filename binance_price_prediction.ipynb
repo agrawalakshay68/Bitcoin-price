{
  "nbformat": 4,
  "nbformat_minor": 0,
  "metadata": {
    "kernelspec": {
      "name": "python3",
      "display_name": "Python 3"
    },
    "colab": {
      "name": "binance price prediction.ipynb",
      "provenance": [],
      "collapsed_sections": []
    },
    "language_info": {
      "name": "python"
    },
    "accelerator": "GPU"
  },
  "cells": [
    {
      "cell_type": "markdown",
      "metadata": {
        "id": "kMJRtos1IddI"
      },
      "source": [
        "**The project is based on predction of bitcoin price.**\n",
        "\n",
        "* Bitcoin being the king of the crypto market drives the market, many coins follow similar pattern as that of bitcoin.\n",
        "\n",
        "* Advanced crypto traders have their methods to predict the price of bitcoin some of them are finding the resistances, supports, moving averages etc.\n",
        "\n",
        "* Bitcoin's price data overtime is just a sequence data and **recurrent neural network** has excelled on learning about the sequences, so lets build a recurrent neural network which learn all the trading patterns and predict the price of bitcoin.\n",
        "\n",
        "**Dataset**\n",
        "* We will use bitcoin's prior two year candlestick data to train our model.\n",
        "* We use **Binance API** to fetch the dataset from binance, Binance is one of the largest crypto trading platform to use Binance API we need to create binance account and generate API command.\n",
        "* We use python-binance package which simplifies the data fetching part.\n"
      ]
    },
    {
      "cell_type": "code",
      "metadata": {
        "id": "LuYN5AEdGvfB"
      },
      "source": [
        "# importing libraries\n",
        "from binance.client import Client\n",
        "from datetime import datetime\n",
        "import pandas as pd\n",
        "import keys\n",
        "\n",
        "client = Client(api_key = keys.Pkey , api_secret = keys.Skey) # private API command\n",
        "\n",
        "candles = client.get_klines(symbol = 'LTCUSDT', interval = Client.KLINE_INTERVAL_1HOUR) # just for example we fetch litecoin price in 1h intervals\n",
        "\n",
        "df = pd.DataFrame(candles) "
      ],
      "execution_count": null,
      "outputs": []
    },
    {
      "cell_type": "code",
      "metadata": {
        "id": "jZV44m_tGvfI",
        "outputId": "f3ad7f70-6961-406e-adca-579ea3fc7463"
      },
      "source": [
        "# dataset before preprocessing\n",
        "df.head()"
      ],
      "execution_count": null,
      "outputs": [
        {
          "output_type": "execute_result",
          "data": {
            "text/html": [
              "<div>\n",
              "<style scoped>\n",
              "    .dataframe tbody tr th:only-of-type {\n",
              "        vertical-align: middle;\n",
              "    }\n",
              "\n",
              "    .dataframe tbody tr th {\n",
              "        vertical-align: top;\n",
              "    }\n",
              "\n",
              "    .dataframe thead th {\n",
              "        text-align: right;\n",
              "    }\n",
              "</style>\n",
              "<table border=\"1\" class=\"dataframe\">\n",
              "  <thead>\n",
              "    <tr style=\"text-align: right;\">\n",
              "      <th></th>\n",
              "      <th>0</th>\n",
              "      <th>1</th>\n",
              "      <th>2</th>\n",
              "      <th>3</th>\n",
              "      <th>4</th>\n",
              "      <th>5</th>\n",
              "      <th>6</th>\n",
              "      <th>7</th>\n",
              "      <th>8</th>\n",
              "      <th>9</th>\n",
              "      <th>10</th>\n",
              "      <th>11</th>\n",
              "    </tr>\n",
              "  </thead>\n",
              "  <tbody>\n",
              "    <tr>\n",
              "      <th>0</th>\n",
              "      <td>1620842400000</td>\n",
              "      <td>352.94000000</td>\n",
              "      <td>355.13000000</td>\n",
              "      <td>337.80000000</td>\n",
              "      <td>347.09000000</td>\n",
              "      <td>151648.69324000</td>\n",
              "      <td>1620845999999</td>\n",
              "      <td>52394903.37217390</td>\n",
              "      <td>51906</td>\n",
              "      <td>71007.89629000</td>\n",
              "      <td>24538583.30858960</td>\n",
              "      <td>0</td>\n",
              "    </tr>\n",
              "    <tr>\n",
              "      <th>1</th>\n",
              "      <td>1620846000000</td>\n",
              "      <td>346.90000000</td>\n",
              "      <td>355.50000000</td>\n",
              "      <td>340.78000000</td>\n",
              "      <td>354.80000000</td>\n",
              "      <td>102324.86873000</td>\n",
              "      <td>1620849599999</td>\n",
              "      <td>35713254.60559370</td>\n",
              "      <td>37250</td>\n",
              "      <td>50712.13479000</td>\n",
              "      <td>17705534.69432920</td>\n",
              "      <td>0</td>\n",
              "    </tr>\n",
              "    <tr>\n",
              "      <th>2</th>\n",
              "      <td>1620849600000</td>\n",
              "      <td>354.78000000</td>\n",
              "      <td>358.77000000</td>\n",
              "      <td>351.09000000</td>\n",
              "      <td>356.86000000</td>\n",
              "      <td>61147.56729000</td>\n",
              "      <td>1620853199999</td>\n",
              "      <td>21713218.06773560</td>\n",
              "      <td>20900</td>\n",
              "      <td>30725.02179000</td>\n",
              "      <td>10913445.52928870</td>\n",
              "      <td>0</td>\n",
              "    </tr>\n",
              "    <tr>\n",
              "      <th>3</th>\n",
              "      <td>1620853200000</td>\n",
              "      <td>356.89000000</td>\n",
              "      <td>359.99000000</td>\n",
              "      <td>355.00000000</td>\n",
              "      <td>357.01000000</td>\n",
              "      <td>35879.39881000</td>\n",
              "      <td>1620856799999</td>\n",
              "      <td>12810036.57510250</td>\n",
              "      <td>15780</td>\n",
              "      <td>18483.77686000</td>\n",
              "      <td>6599672.93583970</td>\n",
              "      <td>0</td>\n",
              "    </tr>\n",
              "    <tr>\n",
              "      <th>4</th>\n",
              "      <td>1620856800000</td>\n",
              "      <td>357.00000000</td>\n",
              "      <td>359.00000000</td>\n",
              "      <td>332.61000000</td>\n",
              "      <td>349.15000000</td>\n",
              "      <td>255747.19972000</td>\n",
              "      <td>1620860399999</td>\n",
              "      <td>87405184.30844650</td>\n",
              "      <td>87282</td>\n",
              "      <td>126449.57273000</td>\n",
              "      <td>43242716.81066080</td>\n",
              "      <td>0</td>\n",
              "    </tr>\n",
              "  </tbody>\n",
              "</table>\n",
              "</div>"
            ],
            "text/plain": [
              "              0             1             2             3             4   \\\n",
              "0  1620842400000  352.94000000  355.13000000  337.80000000  347.09000000   \n",
              "1  1620846000000  346.90000000  355.50000000  340.78000000  354.80000000   \n",
              "2  1620849600000  354.78000000  358.77000000  351.09000000  356.86000000   \n",
              "3  1620853200000  356.89000000  359.99000000  355.00000000  357.01000000   \n",
              "4  1620856800000  357.00000000  359.00000000  332.61000000  349.15000000   \n",
              "\n",
              "                5              6                  7      8                9   \\\n",
              "0  151648.69324000  1620845999999  52394903.37217390  51906   71007.89629000   \n",
              "1  102324.86873000  1620849599999  35713254.60559370  37250   50712.13479000   \n",
              "2   61147.56729000  1620853199999  21713218.06773560  20900   30725.02179000   \n",
              "3   35879.39881000  1620856799999  12810036.57510250  15780   18483.77686000   \n",
              "4  255747.19972000  1620860399999  87405184.30844650  87282  126449.57273000   \n",
              "\n",
              "                  10 11  \n",
              "0  24538583.30858960  0  \n",
              "1  17705534.69432920  0  \n",
              "2  10913445.52928870  0  \n",
              "3   6599672.93583970  0  \n",
              "4  43242716.81066080  0  "
            ]
          },
          "metadata": {
            "tags": []
          },
          "execution_count": 16
        }
      ]
    },
    {
      "cell_type": "markdown",
      "metadata": {
        "id": "e2if3CMHJnVC"
      },
      "source": [
        "columns are ordered as :\n",
        "\n",
        "['unix time in ms', 'open', 'high', 'low', 'close', 'volume', 'close_time', 'asset_volume', 'trade_number', 'taker_buy_base', 'taker_by_quote'].\n",
        "\n",
        "We need to name each column of the dataframe in the order shown above. \n",
        "\n",
        "Also the first column is unix time we need to convert it into python date-time object such that it is understandable by us."
      ]
    },
    {
      "cell_type": "code",
      "metadata": {
        "id": "S7dnrZM_GvfM"
      },
      "source": [
        "# converting unix time into python-datetime object\n",
        "date = []\n",
        "for x in df[0].values :\n",
        "    date.append(datetime.fromtimestamp(int(x/1000)))"
      ],
      "execution_count": null,
      "outputs": []
    },
    {
      "cell_type": "code",
      "metadata": {
        "id": "ZMcQX4dQGvfO"
      },
      "source": [
        "df_date = pd.DataFrame(date)\n",
        "df_date.columns = ['date']"
      ],
      "execution_count": null,
      "outputs": []
    },
    {
      "cell_type": "code",
      "metadata": {
        "id": "jD0sej3nGvfP",
        "outputId": "36948c56-21a9-40af-98ea-3f1598db5cf2"
      },
      "source": [
        "df_date.head()"
      ],
      "execution_count": null,
      "outputs": [
        {
          "output_type": "execute_result",
          "data": {
            "text/html": [
              "<div>\n",
              "<style scoped>\n",
              "    .dataframe tbody tr th:only-of-type {\n",
              "        vertical-align: middle;\n",
              "    }\n",
              "\n",
              "    .dataframe tbody tr th {\n",
              "        vertical-align: top;\n",
              "    }\n",
              "\n",
              "    .dataframe thead th {\n",
              "        text-align: right;\n",
              "    }\n",
              "</style>\n",
              "<table border=\"1\" class=\"dataframe\">\n",
              "  <thead>\n",
              "    <tr style=\"text-align: right;\">\n",
              "      <th></th>\n",
              "      <th>date</th>\n",
              "    </tr>\n",
              "  </thead>\n",
              "  <tbody>\n",
              "    <tr>\n",
              "      <th>0</th>\n",
              "      <td>2021-05-12 23:30:00</td>\n",
              "    </tr>\n",
              "    <tr>\n",
              "      <th>1</th>\n",
              "      <td>2021-05-13 00:30:00</td>\n",
              "    </tr>\n",
              "    <tr>\n",
              "      <th>2</th>\n",
              "      <td>2021-05-13 01:30:00</td>\n",
              "    </tr>\n",
              "    <tr>\n",
              "      <th>3</th>\n",
              "      <td>2021-05-13 02:30:00</td>\n",
              "    </tr>\n",
              "    <tr>\n",
              "      <th>4</th>\n",
              "      <td>2021-05-13 03:30:00</td>\n",
              "    </tr>\n",
              "  </tbody>\n",
              "</table>\n",
              "</div>"
            ],
            "text/plain": [
              "                 date\n",
              "0 2021-05-12 23:30:00\n",
              "1 2021-05-13 00:30:00\n",
              "2 2021-05-13 01:30:00\n",
              "3 2021-05-13 02:30:00\n",
              "4 2021-05-13 03:30:00"
            ]
          },
          "metadata": {
            "tags": []
          },
          "execution_count": 20
        }
      ]
    },
    {
      "cell_type": "code",
      "metadata": {
        "id": "KPagPyqLGvfQ"
      },
      "source": [
        "df = df.join(df_date)"
      ],
      "execution_count": null,
      "outputs": []
    },
    {
      "cell_type": "code",
      "metadata": {
        "id": "AKWZlVa-GvfQ"
      },
      "source": [
        "df.set_index('date', inplace=True)"
      ],
      "execution_count": null,
      "outputs": []
    },
    {
      "cell_type": "code",
      "metadata": {
        "id": "Zj1b3hQzGvfR",
        "outputId": "8cb23a50-6adc-40fb-c448-e0a3f12b3d20"
      },
      "source": [
        "df.columns = ['open', 'high', 'low', 'close', 'volume', 'close_time', 'asset_volume', 'trade_number', 'taker_buy_base', 'taker_by_quote']\n",
        "df.head()"
      ],
      "execution_count": null,
      "outputs": [
        {
          "output_type": "execute_result",
          "data": {
            "text/html": [
              "<div>\n",
              "<style scoped>\n",
              "    .dataframe tbody tr th:only-of-type {\n",
              "        vertical-align: middle;\n",
              "    }\n",
              "\n",
              "    .dataframe tbody tr th {\n",
              "        vertical-align: top;\n",
              "    }\n",
              "\n",
              "    .dataframe thead th {\n",
              "        text-align: right;\n",
              "    }\n",
              "</style>\n",
              "<table border=\"1\" class=\"dataframe\">\n",
              "  <thead>\n",
              "    <tr style=\"text-align: right;\">\n",
              "      <th></th>\n",
              "      <th>open</th>\n",
              "      <th>high</th>\n",
              "      <th>low</th>\n",
              "      <th>close</th>\n",
              "      <th>volume</th>\n",
              "      <th>close_time</th>\n",
              "      <th>asset_volume</th>\n",
              "      <th>trade_number</th>\n",
              "      <th>taker_buy_base</th>\n",
              "      <th>taker_by_quote</th>\n",
              "    </tr>\n",
              "    <tr>\n",
              "      <th>date</th>\n",
              "      <th></th>\n",
              "      <th></th>\n",
              "      <th></th>\n",
              "      <th></th>\n",
              "      <th></th>\n",
              "      <th></th>\n",
              "      <th></th>\n",
              "      <th></th>\n",
              "      <th></th>\n",
              "      <th></th>\n",
              "    </tr>\n",
              "  </thead>\n",
              "  <tbody>\n",
              "    <tr>\n",
              "      <th>2021-05-12 23:30:00</th>\n",
              "      <td>352.94000000</td>\n",
              "      <td>355.13000000</td>\n",
              "      <td>337.80000000</td>\n",
              "      <td>347.09000000</td>\n",
              "      <td>151648.69324000</td>\n",
              "      <td>1620845999999</td>\n",
              "      <td>52394903.37217390</td>\n",
              "      <td>51906</td>\n",
              "      <td>71007.89629000</td>\n",
              "      <td>24538583.30858960</td>\n",
              "    </tr>\n",
              "    <tr>\n",
              "      <th>2021-05-13 00:30:00</th>\n",
              "      <td>346.90000000</td>\n",
              "      <td>355.50000000</td>\n",
              "      <td>340.78000000</td>\n",
              "      <td>354.80000000</td>\n",
              "      <td>102324.86873000</td>\n",
              "      <td>1620849599999</td>\n",
              "      <td>35713254.60559370</td>\n",
              "      <td>37250</td>\n",
              "      <td>50712.13479000</td>\n",
              "      <td>17705534.69432920</td>\n",
              "    </tr>\n",
              "    <tr>\n",
              "      <th>2021-05-13 01:30:00</th>\n",
              "      <td>354.78000000</td>\n",
              "      <td>358.77000000</td>\n",
              "      <td>351.09000000</td>\n",
              "      <td>356.86000000</td>\n",
              "      <td>61147.56729000</td>\n",
              "      <td>1620853199999</td>\n",
              "      <td>21713218.06773560</td>\n",
              "      <td>20900</td>\n",
              "      <td>30725.02179000</td>\n",
              "      <td>10913445.52928870</td>\n",
              "    </tr>\n",
              "    <tr>\n",
              "      <th>2021-05-13 02:30:00</th>\n",
              "      <td>356.89000000</td>\n",
              "      <td>359.99000000</td>\n",
              "      <td>355.00000000</td>\n",
              "      <td>357.01000000</td>\n",
              "      <td>35879.39881000</td>\n",
              "      <td>1620856799999</td>\n",
              "      <td>12810036.57510250</td>\n",
              "      <td>15780</td>\n",
              "      <td>18483.77686000</td>\n",
              "      <td>6599672.93583970</td>\n",
              "    </tr>\n",
              "    <tr>\n",
              "      <th>2021-05-13 03:30:00</th>\n",
              "      <td>357.00000000</td>\n",
              "      <td>359.00000000</td>\n",
              "      <td>332.61000000</td>\n",
              "      <td>349.15000000</td>\n",
              "      <td>255747.19972000</td>\n",
              "      <td>1620860399999</td>\n",
              "      <td>87405184.30844650</td>\n",
              "      <td>87282</td>\n",
              "      <td>126449.57273000</td>\n",
              "      <td>43242716.81066080</td>\n",
              "    </tr>\n",
              "  </tbody>\n",
              "</table>\n",
              "</div>"
            ],
            "text/plain": [
              "                             open          high           low         close  \\\n",
              "date                                                                          \n",
              "2021-05-12 23:30:00  352.94000000  355.13000000  337.80000000  347.09000000   \n",
              "2021-05-13 00:30:00  346.90000000  355.50000000  340.78000000  354.80000000   \n",
              "2021-05-13 01:30:00  354.78000000  358.77000000  351.09000000  356.86000000   \n",
              "2021-05-13 02:30:00  356.89000000  359.99000000  355.00000000  357.01000000   \n",
              "2021-05-13 03:30:00  357.00000000  359.00000000  332.61000000  349.15000000   \n",
              "\n",
              "                              volume     close_time       asset_volume  \\\n",
              "date                                                                     \n",
              "2021-05-12 23:30:00  151648.69324000  1620845999999  52394903.37217390   \n",
              "2021-05-13 00:30:00  102324.86873000  1620849599999  35713254.60559370   \n",
              "2021-05-13 01:30:00   61147.56729000  1620853199999  21713218.06773560   \n",
              "2021-05-13 02:30:00   35879.39881000  1620856799999  12810036.57510250   \n",
              "2021-05-13 03:30:00  255747.19972000  1620860399999  87405184.30844650   \n",
              "\n",
              "                     trade_number   taker_buy_base     taker_by_quote  \n",
              "date                                                                   \n",
              "2021-05-12 23:30:00         51906   71007.89629000  24538583.30858960  \n",
              "2021-05-13 00:30:00         37250   50712.13479000  17705534.69432920  \n",
              "2021-05-13 01:30:00         20900   30725.02179000  10913445.52928870  \n",
              "2021-05-13 02:30:00         15780   18483.77686000   6599672.93583970  \n",
              "2021-05-13 03:30:00         87282  126449.57273000  43242716.81066080  "
            ]
          },
          "metadata": {
            "tags": []
          },
          "execution_count": 24
        }
      ]
    },
    {
      "cell_type": "markdown",
      "metadata": {
        "id": "_h-gDL4wK1du"
      },
      "source": [
        "### **Now lets do all the things in our custom function name binance_price.**\n",
        "\n",
        "\n",
        "*   The function has three argumnets **name of the coin**, **time_interval** which controls time_interval of the data fetched, **from_date** which controlls from which date we want to fetch data.\n",
        "\n",
        "*   The function returns the data frame containing candlestick data with index as the date and time in UTC.\n",
        "\n",
        "**Preprocessing Done:**\n",
        "\n",
        "*   Conversion of unix time into python's datetime object.\n",
        "*   Removed some columns which were unecessary such as trade number etc.\n",
        "*   After removal we have 5 columns named open, high, low, close, volume.\n",
        "\n",
        "**Feature Meaning**:\n",
        "\n",
        "* Open : Open price of the coin(price of the coin when interval started).\n",
        "\n",
        "* high : highest price attained during that interval.\n",
        "\n",
        "* low : lowest price attained during that interval.\n",
        "\n",
        "* close : close price of the coin (price of the coin when interval ended).\n",
        "\n",
        "* volume : number of coins traded (buy or sold) withn an interval.\n",
        "\n",
        "\n",
        "\n",
        "\n",
        "\n",
        "\n"
      ]
    },
    {
      "cell_type": "code",
      "metadata": {
        "colab": {
          "base_uri": "https://localhost:8080/"
        },
        "id": "P6kjFrsfGvfS",
        "outputId": "f05a4cc4-c7b9-4b10-e857-96aeb31c1168"
      },
      "source": [
        "!pip install python-binance\n",
        "from binance.client import Client\n",
        "from datetime import datetime\n",
        "import pandas as pd\n",
        "import keys\n",
        "import matplotlib.pyplot as plt\n",
        "import numpy as np\n",
        "\n",
        "def binance_price(coin, time_interval, from_date):\n",
        "    client = Client(api_key = keys.Pkey , api_secret = keys.Skey)\n",
        "    candles = client.get_historical_klines(coin, time_interval, from_date) # \"1 Jun, 2021\"\n",
        "    df = pd.DataFrame(candles)\n",
        "    date = []\n",
        "    for x in df[0].values :\n",
        "        date.append(datetime.fromtimestamp(int(x/1000)))\n",
        "    \n",
        "    df = df.iloc[: , 1:6] # keeping necessary columns\n",
        "    \n",
        "    df_date = pd.DataFrame(date)\n",
        "    df_date.columns = ['date'] # adding date columns after conversion.\n",
        "    \n",
        "    df = df.join(df_date)\n",
        "    df.set_index('date', inplace=True)\n",
        "    \n",
        "    df.columns = ['open', 'high', 'low', 'close', 'volume']\n",
        "    df = df.astype('float')\n",
        "    return df, client"
      ],
      "execution_count": null,
      "outputs": [
        {
          "output_type": "stream",
          "text": [
            "Collecting python-binance\n",
            "\u001b[?25l  Downloading https://files.pythonhosted.org/packages/db/1b/97beaa5f8f71a76e1f7492be33279cf920a37d1f385ffff5c26827781f02/python_binance-1.0.12-py2.py3-none-any.whl (58kB)\n",
            "\u001b[K     |████████████████████████████████| 61kB 3.0MB/s \n",
            "\u001b[?25hRequirement already satisfied: requests in /usr/local/lib/python3.7/dist-packages (from python-binance) (2.23.0)\n",
            "Collecting ujson\n",
            "\u001b[?25l  Downloading https://files.pythonhosted.org/packages/17/4e/50e8e4cf5f00b537095711c2c86ac4d7191aed2b4fffd5a19f06898f6929/ujson-4.0.2-cp37-cp37m-manylinux1_x86_64.whl (179kB)\n",
            "\u001b[K     |████████████████████████████████| 184kB 8.6MB/s \n",
            "\u001b[?25hCollecting websockets\n",
            "\u001b[?25l  Downloading https://files.pythonhosted.org/packages/84/64/78c2b3fe37730b30dca3c93d1f7f4a4286767f86e7c04cf3571b39bc2fb7/websockets-9.1-cp37-cp37m-manylinux2010_x86_64.whl (103kB)\n",
            "\u001b[K     |████████████████████████████████| 112kB 39.6MB/s \n",
            "\u001b[?25hRequirement already satisfied: six in /usr/local/lib/python3.7/dist-packages (from python-binance) (1.15.0)\n",
            "Collecting dateparser\n",
            "\u001b[?25l  Downloading https://files.pythonhosted.org/packages/78/c4/b5ddc3eeac974d85055d88c1e6b62cc492fc1a93dbe3b66a45a756a7b807/dateparser-1.0.0-py2.py3-none-any.whl (279kB)\n",
            "\u001b[K     |████████████████████████████████| 286kB 37.2MB/s \n",
            "\u001b[?25hCollecting aiohttp\n",
            "\u001b[?25l  Downloading https://files.pythonhosted.org/packages/88/c0/5890b4c8b04a79b7360e8fe4490feb0bb3ab179743f199f0e6220cebd568/aiohttp-3.7.4.post0-cp37-cp37m-manylinux2014_x86_64.whl (1.3MB)\n",
            "\u001b[K     |████████████████████████████████| 1.3MB 26.1MB/s \n",
            "\u001b[?25hRequirement already satisfied: chardet<4,>=3.0.2 in /usr/local/lib/python3.7/dist-packages (from requests->python-binance) (3.0.4)\n",
            "Requirement already satisfied: urllib3!=1.25.0,!=1.25.1,<1.26,>=1.21.1 in /usr/local/lib/python3.7/dist-packages (from requests->python-binance) (1.24.3)\n",
            "Requirement already satisfied: idna<3,>=2.5 in /usr/local/lib/python3.7/dist-packages (from requests->python-binance) (2.10)\n",
            "Requirement already satisfied: certifi>=2017.4.17 in /usr/local/lib/python3.7/dist-packages (from requests->python-binance) (2020.12.5)\n",
            "Requirement already satisfied: tzlocal in /usr/local/lib/python3.7/dist-packages (from dateparser->python-binance) (1.5.1)\n",
            "Requirement already satisfied: pytz in /usr/local/lib/python3.7/dist-packages (from dateparser->python-binance) (2018.9)\n",
            "Requirement already satisfied: python-dateutil in /usr/local/lib/python3.7/dist-packages (from dateparser->python-binance) (2.8.1)\n",
            "Requirement already satisfied: regex!=2019.02.19 in /usr/local/lib/python3.7/dist-packages (from dateparser->python-binance) (2019.12.20)\n",
            "Requirement already satisfied: attrs>=17.3.0 in /usr/local/lib/python3.7/dist-packages (from aiohttp->python-binance) (21.2.0)\n",
            "Collecting yarl<2.0,>=1.0\n",
            "\u001b[?25l  Downloading https://files.pythonhosted.org/packages/f1/62/046834c5fc998c88ab2ef722f5d42122230a632212c8afa76418324f53ff/yarl-1.6.3-cp37-cp37m-manylinux2014_x86_64.whl (294kB)\n",
            "\u001b[K     |████████████████████████████████| 296kB 44.1MB/s \n",
            "\u001b[?25hCollecting async-timeout<4.0,>=3.0\n",
            "  Downloading https://files.pythonhosted.org/packages/e1/1e/5a4441be21b0726c4464f3f23c8b19628372f606755a9d2e46c187e65ec4/async_timeout-3.0.1-py3-none-any.whl\n",
            "Collecting multidict<7.0,>=4.5\n",
            "\u001b[?25l  Downloading https://files.pythonhosted.org/packages/7c/a6/4123b8165acbe773d1a8dc8e3f0d1edea16d29f7de018eda769abb56bd30/multidict-5.1.0-cp37-cp37m-manylinux2014_x86_64.whl (142kB)\n",
            "\u001b[K     |████████████████████████████████| 143kB 39.4MB/s \n",
            "\u001b[?25hRequirement already satisfied: typing-extensions>=3.6.5 in /usr/local/lib/python3.7/dist-packages (from aiohttp->python-binance) (3.7.4.3)\n",
            "Installing collected packages: ujson, websockets, dateparser, multidict, yarl, async-timeout, aiohttp, python-binance\n",
            "Successfully installed aiohttp-3.7.4.post0 async-timeout-3.0.1 dateparser-1.0.0 multidict-5.1.0 python-binance-1.0.12 ujson-4.0.2 websockets-9.1 yarl-1.6.3\n"
          ],
          "name": "stdout"
        }
      ]
    },
    {
      "cell_type": "code",
      "metadata": {
        "id": "fLqwVhdPGvfU",
        "colab": {
          "base_uri": "https://localhost:8080/",
          "height": 303
        },
        "outputId": "ed6b4128-22e5-4ca9-d224-370e43be9e0a"
      },
      "source": [
        "df, client = binance_price('BTCUSDT', '4h', '1 Jun, 2017') # prior 4 year data."
      ],
      "execution_count": null,
      "outputs": [
        {
          "output_type": "error",
          "ename": "KeyboardInterrupt",
          "evalue": "ignored",
          "traceback": [
            "\u001b[0;31m---------------------------------------------------------------------------\u001b[0m",
            "\u001b[0;31mKeyboardInterrupt\u001b[0m                         Traceback (most recent call last)",
            "\u001b[0;32m<ipython-input-4-12dbb91a8e9a>\u001b[0m in \u001b[0;36m<module>\u001b[0;34m()\u001b[0m\n\u001b[0;32m----> 1\u001b[0;31m \u001b[0mdf\u001b[0m\u001b[0;34m,\u001b[0m \u001b[0mclient\u001b[0m \u001b[0;34m=\u001b[0m \u001b[0mbinance_price\u001b[0m\u001b[0;34m(\u001b[0m\u001b[0;34m'BTCUSDT'\u001b[0m\u001b[0;34m,\u001b[0m \u001b[0;34m'1m'\u001b[0m\u001b[0;34m,\u001b[0m \u001b[0;34m'1 Jan, 2020'\u001b[0m\u001b[0;34m)\u001b[0m\u001b[0;34m\u001b[0m\u001b[0;34m\u001b[0m\u001b[0m\n\u001b[0m",
            "\u001b[0;32m<ipython-input-1-9c3bbfdf8fe5>\u001b[0m in \u001b[0;36mbinance_price\u001b[0;34m(coin, time_interval, from_date)\u001b[0m\n\u001b[1;32m      9\u001b[0m \u001b[0;32mdef\u001b[0m \u001b[0mbinance_price\u001b[0m\u001b[0;34m(\u001b[0m\u001b[0mcoin\u001b[0m\u001b[0;34m,\u001b[0m \u001b[0mtime_interval\u001b[0m\u001b[0;34m,\u001b[0m \u001b[0mfrom_date\u001b[0m\u001b[0;34m)\u001b[0m\u001b[0;34m:\u001b[0m\u001b[0;34m\u001b[0m\u001b[0;34m\u001b[0m\u001b[0m\n\u001b[1;32m     10\u001b[0m     \u001b[0mclient\u001b[0m \u001b[0;34m=\u001b[0m \u001b[0mClient\u001b[0m\u001b[0;34m(\u001b[0m\u001b[0mapi_key\u001b[0m \u001b[0;34m=\u001b[0m \u001b[0mkeys\u001b[0m\u001b[0;34m.\u001b[0m\u001b[0mPkey\u001b[0m \u001b[0;34m,\u001b[0m \u001b[0mapi_secret\u001b[0m \u001b[0;34m=\u001b[0m \u001b[0mkeys\u001b[0m\u001b[0;34m.\u001b[0m\u001b[0mSkey\u001b[0m\u001b[0;34m)\u001b[0m\u001b[0;34m\u001b[0m\u001b[0;34m\u001b[0m\u001b[0m\n\u001b[0;32m---> 11\u001b[0;31m     \u001b[0mcandles\u001b[0m \u001b[0;34m=\u001b[0m \u001b[0mclient\u001b[0m\u001b[0;34m.\u001b[0m\u001b[0mget_historical_klines\u001b[0m\u001b[0;34m(\u001b[0m\u001b[0mcoin\u001b[0m\u001b[0;34m,\u001b[0m \u001b[0mtime_interval\u001b[0m\u001b[0;34m,\u001b[0m \u001b[0mfrom_date\u001b[0m\u001b[0;34m)\u001b[0m \u001b[0;31m# \"1 Jun, 2021\"\u001b[0m\u001b[0;34m\u001b[0m\u001b[0;34m\u001b[0m\u001b[0m\n\u001b[0m\u001b[1;32m     12\u001b[0m     \u001b[0mdf\u001b[0m \u001b[0;34m=\u001b[0m \u001b[0mpd\u001b[0m\u001b[0;34m.\u001b[0m\u001b[0mDataFrame\u001b[0m\u001b[0;34m(\u001b[0m\u001b[0mcandles\u001b[0m\u001b[0;34m)\u001b[0m\u001b[0;34m\u001b[0m\u001b[0;34m\u001b[0m\u001b[0m\n\u001b[1;32m     13\u001b[0m     \u001b[0mdate\u001b[0m \u001b[0;34m=\u001b[0m \u001b[0;34m[\u001b[0m\u001b[0;34m]\u001b[0m\u001b[0;34m\u001b[0m\u001b[0;34m\u001b[0m\u001b[0m\n",
            "\u001b[0;32m/usr/local/lib/python3.7/dist-packages/binance/client.py\u001b[0m in \u001b[0;36mget_historical_klines\u001b[0;34m(self, symbol, interval, start_str, end_str, limit, klines_type)\u001b[0m\n\u001b[1;32m    930\u001b[0m \u001b[0;34m\u001b[0m\u001b[0m\n\u001b[1;32m    931\u001b[0m         \"\"\"\n\u001b[0;32m--> 932\u001b[0;31m         \u001b[0;32mreturn\u001b[0m \u001b[0mself\u001b[0m\u001b[0;34m.\u001b[0m\u001b[0m_historical_klines\u001b[0m\u001b[0;34m(\u001b[0m\u001b[0msymbol\u001b[0m\u001b[0;34m,\u001b[0m \u001b[0minterval\u001b[0m\u001b[0;34m,\u001b[0m \u001b[0mstart_str\u001b[0m\u001b[0;34m,\u001b[0m \u001b[0mend_str\u001b[0m\u001b[0;34m=\u001b[0m\u001b[0mend_str\u001b[0m\u001b[0;34m,\u001b[0m \u001b[0mlimit\u001b[0m\u001b[0;34m=\u001b[0m\u001b[0mlimit\u001b[0m\u001b[0;34m,\u001b[0m \u001b[0mklines_type\u001b[0m\u001b[0;34m=\u001b[0m\u001b[0mklines_type\u001b[0m\u001b[0;34m)\u001b[0m\u001b[0;34m\u001b[0m\u001b[0;34m\u001b[0m\u001b[0m\n\u001b[0m\u001b[1;32m    933\u001b[0m \u001b[0;34m\u001b[0m\u001b[0m\n\u001b[1;32m    934\u001b[0m     def _historical_klines(self, symbol, interval, start_str, end_str=None, limit=500,\n",
            "\u001b[0;32m/usr/local/lib/python3.7/dist-packages/binance/client.py\u001b[0m in \u001b[0;36m_historical_klines\u001b[0;34m(self, symbol, interval, start_str, end_str, limit, klines_type)\u001b[0m\n\u001b[1;32m   1006\u001b[0m             \u001b[0;31m# sleep after every 3rd call to be kind to the API\u001b[0m\u001b[0;34m\u001b[0m\u001b[0;34m\u001b[0m\u001b[0;34m\u001b[0m\u001b[0m\n\u001b[1;32m   1007\u001b[0m             \u001b[0;32mif\u001b[0m \u001b[0midx\u001b[0m \u001b[0;34m%\u001b[0m \u001b[0;36m3\u001b[0m \u001b[0;34m==\u001b[0m \u001b[0;36m0\u001b[0m\u001b[0;34m:\u001b[0m\u001b[0;34m\u001b[0m\u001b[0;34m\u001b[0m\u001b[0m\n\u001b[0;32m-> 1008\u001b[0;31m                 \u001b[0mtime\u001b[0m\u001b[0;34m.\u001b[0m\u001b[0msleep\u001b[0m\u001b[0;34m(\u001b[0m\u001b[0;36m1\u001b[0m\u001b[0;34m)\u001b[0m\u001b[0;34m\u001b[0m\u001b[0;34m\u001b[0m\u001b[0m\n\u001b[0m\u001b[1;32m   1009\u001b[0m \u001b[0;34m\u001b[0m\u001b[0m\n\u001b[1;32m   1010\u001b[0m         \u001b[0;32mreturn\u001b[0m \u001b[0moutput_data\u001b[0m\u001b[0;34m\u001b[0m\u001b[0;34m\u001b[0m\u001b[0m\n",
            "\u001b[0;31mKeyboardInterrupt\u001b[0m: "
          ]
        }
      ]
    },
    {
      "cell_type": "code",
      "metadata": {
        "colab": {
          "base_uri": "https://localhost:8080/"
        },
        "id": "n-rcicIqGvfU",
        "outputId": "3ad5b6a4-a941-45b1-9fbd-3f739262a831"
      },
      "source": [
        "len(df)"
      ],
      "execution_count": null,
      "outputs": [
        {
          "output_type": "execute_result",
          "data": {
            "text/plain": [
              "8301"
            ]
          },
          "metadata": {
            "tags": []
          },
          "execution_count": 150
        }
      ]
    },
    {
      "cell_type": "code",
      "metadata": {
        "colab": {
          "base_uri": "https://localhost:8080/",
          "height": 294
        },
        "id": "uQzR5lILGvfV",
        "outputId": "b9f77619-f8bb-4f27-ecc1-0e05fb63ff91"
      },
      "source": [
        "# Plot of the btc open price overtime\n",
        "df.open.plot()"
      ],
      "execution_count": null,
      "outputs": [
        {
          "output_type": "execute_result",
          "data": {
            "text/plain": [
              "<matplotlib.axes._subplots.AxesSubplot at 0x7f07494f6c10>"
            ]
          },
          "metadata": {
            "tags": []
          },
          "execution_count": 151
        },
        {
          "output_type": "display_data",
          "data": {
            "image/png": "[encoded data removed]",
            "text/plain": [
              "<Figure size 432x288 with 1 Axes>"
            ]
          },
          "metadata": {
            "tags": [],
            "needs_background": "light"
          }
        }
      ]
    },
    {
      "cell_type": "code",
      "metadata": {
        "colab": {
          "base_uri": "https://localhost:8080/",
          "height": 225
        },
        "id": "H59UeXKqGvfW",
        "outputId": "87f5b002-6285-42e0-9cb8-0985f675f1f4"
      },
      "source": [
        "df.tail()"
      ],
      "execution_count": null,
      "outputs": [
        {
          "output_type": "execute_result",
          "data": {
            "text/html": [
              "<div>\n",
              "<style scoped>\n",
              "    .dataframe tbody tr th:only-of-type {\n",
              "        vertical-align: middle;\n",
              "    }\n",
              "\n",
              "    .dataframe tbody tr th {\n",
              "        vertical-align: top;\n",
              "    }\n",
              "\n",
              "    .dataframe thead th {\n",
              "        text-align: right;\n",
              "    }\n",
              "</style>\n",
              "<table border=\"1\" class=\"dataframe\">\n",
              "  <thead>\n",
              "    <tr style=\"text-align: right;\">\n",
              "      <th></th>\n",
              "      <th>open</th>\n",
              "      <th>high</th>\n",
              "      <th>low</th>\n",
              "      <th>close</th>\n",
              "      <th>volume</th>\n",
              "    </tr>\n",
              "    <tr>\n",
              "      <th>date</th>\n",
              "      <th></th>\n",
              "      <th></th>\n",
              "      <th></th>\n",
              "      <th></th>\n",
              "      <th></th>\n",
              "    </tr>\n",
              "  </thead>\n",
              "  <tbody>\n",
              "    <tr>\n",
              "      <th>2021-06-02 16:00:00</th>\n",
              "      <td>38040.69</td>\n",
              "      <td>38200.00</td>\n",
              "      <td>37727.37</td>\n",
              "      <td>37884.57</td>\n",
              "      <td>9291.591592</td>\n",
              "    </tr>\n",
              "    <tr>\n",
              "      <th>2021-06-02 20:00:00</th>\n",
              "      <td>37884.58</td>\n",
              "      <td>37929.97</td>\n",
              "      <td>37320.00</td>\n",
              "      <td>37568.68</td>\n",
              "      <td>7443.990253</td>\n",
              "    </tr>\n",
              "    <tr>\n",
              "      <th>2021-06-03 00:00:00</th>\n",
              "      <td>37568.68</td>\n",
              "      <td>37903.14</td>\n",
              "      <td>37170.00</td>\n",
              "      <td>37634.57</td>\n",
              "      <td>8381.714112</td>\n",
              "    </tr>\n",
              "    <tr>\n",
              "      <th>2021-06-03 04:00:00</th>\n",
              "      <td>37635.24</td>\n",
              "      <td>39039.19</td>\n",
              "      <td>37600.00</td>\n",
              "      <td>38634.09</td>\n",
              "      <td>16294.658537</td>\n",
              "    </tr>\n",
              "    <tr>\n",
              "      <th>2021-06-03 08:00:00</th>\n",
              "      <td>38634.77</td>\n",
              "      <td>39420.77</td>\n",
              "      <td>38518.96</td>\n",
              "      <td>39318.51</td>\n",
              "      <td>7857.589835</td>\n",
              "    </tr>\n",
              "  </tbody>\n",
              "</table>\n",
              "</div>"
            ],
            "text/plain": [
              "                         open      high       low     close        volume\n",
              "date                                                                     \n",
              "2021-06-02 16:00:00  38040.69  38200.00  37727.37  37884.57   9291.591592\n",
              "2021-06-02 20:00:00  37884.58  37929.97  37320.00  37568.68   7443.990253\n",
              "2021-06-03 00:00:00  37568.68  37903.14  37170.00  37634.57   8381.714112\n",
              "2021-06-03 04:00:00  37635.24  39039.19  37600.00  38634.09  16294.658537\n",
              "2021-06-03 08:00:00  38634.77  39420.77  38518.96  39318.51   7857.589835"
            ]
          },
          "metadata": {
            "tags": []
          },
          "execution_count": 152
        }
      ]
    },
    {
      "cell_type": "markdown",
      "metadata": {
        "id": "zxdnAb8qPF-v"
      },
      "source": [
        "We need to scale features as features have **different ranges**, if not done our model training will be instable and slow.\n",
        "\n",
        "We use sklearn's **MinMaxScaler** for the scaling operation."
      ]
    },
    {
      "cell_type": "code",
      "metadata": {
        "id": "hnpU_8orGvfW"
      },
      "source": [
        "# We need to scale features as features have different ranges, if not done our model training will be instable and slow.\n",
        "\n",
        "from sklearn.preprocessing import MinMaxScaler\n",
        "scaler = MinMaxScaler()\n",
        "df1 = scaler.fit_transform(df)"
      ],
      "execution_count": null,
      "outputs": []
    },
    {
      "cell_type": "markdown",
      "metadata": {
        "id": "oZuVO15PPk-a"
      },
      "source": [
        "Now we need to prepare the dataset in a some sequence.\n",
        "\n",
        "We call 60 consecutive rows in our dataset as the an input istance and just next row's open price as the output for the sequence (here sequence has 60 time steps.)\n",
        "\n",
        "So example, X1 (first training instance) has first 60 rows of the dataset and 61th row's open column as y1.\n",
        "\n",
        "Note each timestep has five features.\n",
        "\n",
        "The below code-cell does the same."
      ]
    },
    {
      "cell_type": "code",
      "metadata": {
        "id": "GnXzi9laGvfX"
      },
      "source": [
        "# Code to generate the dataset \n",
        "# we are excuding last 30 time steps of the dataset as we will use it for cross-validation\n",
        "\n",
        "X_train = []\n",
        "y_train = []\n",
        "time_step = 60\n",
        "\n",
        "for i in range(len(df1) - 30 - time_step):\n",
        "    X_train.append(df1[i : i + time_step])\n",
        "    y_train.append(df1[i + time_step][0])\n",
        "    \n",
        "X_train = np.array(X_train)\n",
        "y_train = np.array(y_train)"
      ],
      "execution_count": null,
      "outputs": []
    },
    {
      "cell_type": "code",
      "metadata": {
        "id": "VbInV61oLImX"
      },
      "source": [
        "# X_train = []\n",
        "# y_train = []\n",
        "# time_step = 60\n",
        "\n",
        "# for i in range(len(df1) -  time_step):\n",
        "#     X_train.append(df1[i : i + time_step])\n",
        "#     y_train.append(df1[i + time_step][0])\n",
        "    \n",
        "# X_train = np.array(X_train)\n",
        "# y_train = np.array(y_train)\n",
        "\n",
        "# X_test = np.array(df1[len(df1) - time_step : len(df1)]).reshape(1, time_step, 5)\n"
      ],
      "execution_count": null,
      "outputs": []
    },
    {
      "cell_type": "code",
      "metadata": {
        "colab": {
          "base_uri": "https://localhost:8080/"
        },
        "id": "JcJU5c6kGvfY",
        "outputId": "fa4205aa-374a-4b48-b875-50d8d22092f9"
      },
      "source": [
        "X_train.shape"
      ],
      "execution_count": null,
      "outputs": [
        {
          "output_type": "execute_result",
          "data": {
            "text/plain": [
              "(8241, 60, 5)"
            ]
          },
          "metadata": {
            "tags": []
          },
          "execution_count": 156
        }
      ]
    },
    {
      "cell_type": "code",
      "metadata": {
        "id": "hMuv4jYeGvfY"
      },
      "source": [
        "# Generating the test set which contains last 30 instances for cross-validation\n",
        "\n",
        "X_test = []\n",
        "y_test = []\n",
        "\n",
        "for i in range(len(df1)-30-time_step, len(df1)-time_step) :\n",
        "    X_test.append(df1[i : i + time_step])\n",
        "    y_test.append(df1[i + time_step][0])\n",
        "    \n",
        "X_test = np.array(X_test)\n",
        "y_test = np.array(y_test)\n"
      ],
      "execution_count": null,
      "outputs": []
    },
    {
      "cell_type": "code",
      "metadata": {
        "colab": {
          "base_uri": "https://localhost:8080/"
        },
        "id": "mJ7GM_0IGvfZ",
        "outputId": "81cafd7d-16dd-4c0f-e4a8-962667045d70"
      },
      "source": [
        "X_test.shape"
      ],
      "execution_count": null,
      "outputs": [
        {
          "output_type": "execute_result",
          "data": {
            "text/plain": [
              "(1, 60, 5)"
            ]
          },
          "metadata": {
            "tags": []
          },
          "execution_count": 158
        }
      ]
    },
    {
      "cell_type": "markdown",
      "metadata": {
        "id": "snLM-0yrSpLx"
      },
      "source": [
        "We use **Stacked LSTM** network.\n",
        "\n",
        "1. The first layer is LSTM layer with **64 units and return_sequences = True** \n",
        " (means it will return the sequence not only the last timestep's output).\n",
        "\n",
        "  For using stacked LSTM we need to set return_sequences = True, to preserve the sequence orientation of data.\n",
        "\n",
        "2. **Dropout layer** to prevent overfitting with dropout rate equal to 0.2.\n",
        "\n",
        "3. The third layer is LSTM layer with **64 units** and return_sequnces = True.\n",
        " \n",
        "4. Dropout layer with rate = 0.2.\n",
        "\n",
        "5. The fifth layer is LSTM layer with **32 units** and return_sequences = True.\n",
        "\n",
        "6. Dropout layer with rate = 0.2.\n",
        "\n",
        "7. The seventh layer is a LSTM layer with **32 units**.\n",
        "\n",
        "8. Dropout layer with rate = 0.2.\n",
        "\n",
        "9. The last layer is a **Dense layer with no activation** as it is an regression problem.\n",
        "\n",
        "\n",
        "\n"
      ]
    },
    {
      "cell_type": "code",
      "metadata": {
        "id": "I42vrC0-GvfZ"
      },
      "source": [
        "import keras\n",
        "from keras.layers import Dense, Dropout, LSTM, Input\n",
        "from keras.models import Sequential, Model\n",
        "\n",
        "def build_model():\n",
        "    model = Sequential([\n",
        "        LSTM(64, return_sequences = True, input_shape = X_train[0].shape),\n",
        "        Dropout(0.2),\n",
        "        \n",
        "        LSTM(64, return_sequences = True),\n",
        "        Dropout(0.2),\n",
        "        \n",
        "        LSTM(32,  return_sequences = True),\n",
        "        Dropout(0.2),\n",
        "        \n",
        "        LSTM(32),\n",
        "        Dropout(0.2),\n",
        "        \n",
        "        Dense(1)\n",
        "    ])\n",
        "    \n",
        "    model.compile(optimizer = 'adam', loss = 'mse')\n",
        "    model.summary()\n",
        "    return model"
      ],
      "execution_count": null,
      "outputs": []
    },
    {
      "cell_type": "code",
      "metadata": {
        "id": "FjWCJ0YzGvfa"
      },
      "source": [
        "model = build_model()\n"
      ],
      "execution_count": null,
      "outputs": []
    },
    {
      "cell_type": "code",
      "metadata": {
        "id": "_ljrthURSeai"
      },
      "source": [
        "# import keras\n",
        "# model = keras.models.load_model('/content/btc_model.h5')"
      ],
      "execution_count": null,
      "outputs": []
    },
    {
      "cell_type": "code",
      "metadata": {
        "colab": {
          "base_uri": "https://localhost:8080/"
        },
        "id": "J1t7_FleGvfb",
        "outputId": "942162b5-b49d-4374-e095-fe5c11b3933f"
      },
      "source": [
        "# training the model\n",
        "hist = model.fit(X_train, y_train, epochs = 50, batch_size = 128)"
      ],
      "execution_count": null,
      "outputs": [
        {
          "output_type": "stream",
          "text": [
            "Epoch 1/50\n",
            "65/65 [==============================] - 8s 61ms/step - loss: 4.6181e-04\n",
            "Epoch 2/50\n",
            "65/65 [==============================] - 4s 61ms/step - loss: 4.2396e-04\n",
            "Epoch 3/50\n",
            "65/65 [==============================] - 4s 62ms/step - loss: 4.2139e-04\n",
            "Epoch 4/50\n",
            "65/65 [==============================] - 4s 61ms/step - loss: 4.1087e-04\n",
            "Epoch 5/50\n",
            "65/65 [==============================] - 4s 61ms/step - loss: 4.2265e-04\n",
            "Epoch 6/50\n",
            "65/65 [==============================] - 4s 61ms/step - loss: 4.4944e-04\n",
            "Epoch 7/50\n",
            "65/65 [==============================] - 4s 61ms/step - loss: 4.2764e-04\n",
            "Epoch 8/50\n",
            "65/65 [==============================] - 4s 62ms/step - loss: 4.3739e-04\n",
            "Epoch 9/50\n",
            "65/65 [==============================] - 4s 62ms/step - loss: 4.3258e-04\n",
            "Epoch 10/50\n",
            "65/65 [==============================] - 4s 61ms/step - loss: 4.3378e-04\n",
            "Epoch 11/50\n",
            "65/65 [==============================] - 4s 61ms/step - loss: 4.3724e-04\n",
            "Epoch 12/50\n",
            "65/65 [==============================] - 4s 61ms/step - loss: 4.5426e-04\n",
            "Epoch 13/50\n",
            "65/65 [==============================] - 4s 61ms/step - loss: 4.5164e-04\n",
            "Epoch 14/50\n",
            "65/65 [==============================] - 4s 61ms/step - loss: 4.0996e-04\n",
            "Epoch 15/50\n",
            "65/65 [==============================] - 4s 61ms/step - loss: 4.1504e-04\n",
            "Epoch 16/50\n",
            "65/65 [==============================] - 4s 61ms/step - loss: 4.5838e-04\n",
            "Epoch 17/50\n",
            "65/65 [==============================] - 4s 61ms/step - loss: 4.4129e-04\n",
            "Epoch 18/50\n",
            "65/65 [==============================] - 4s 61ms/step - loss: 4.0816e-04\n",
            "Epoch 19/50\n",
            "65/65 [==============================] - 4s 61ms/step - loss: 4.3779e-04\n",
            "Epoch 20/50\n",
            "65/65 [==============================] - 4s 62ms/step - loss: 4.3979e-04\n",
            "Epoch 21/50\n",
            "65/65 [==============================] - 4s 61ms/step - loss: 4.0970e-04\n",
            "Epoch 22/50\n",
            "65/65 [==============================] - 4s 61ms/step - loss: 4.5024e-04\n",
            "Epoch 23/50\n",
            "65/65 [==============================] - 4s 61ms/step - loss: 4.2970e-04\n",
            "Epoch 24/50\n",
            "65/65 [==============================] - 4s 61ms/step - loss: 4.3866e-04\n",
            "Epoch 25/50\n",
            "65/65 [==============================] - 4s 61ms/step - loss: 4.1171e-04\n",
            "Epoch 26/50\n",
            "65/65 [==============================] - 4s 61ms/step - loss: 4.2408e-04\n",
            "Epoch 27/50\n",
            "65/65 [==============================] - 4s 61ms/step - loss: 4.3739e-04\n",
            "Epoch 28/50\n",
            "65/65 [==============================] - 4s 61ms/step - loss: 4.6220e-04\n",
            "Epoch 29/50\n",
            "65/65 [==============================] - 4s 61ms/step - loss: 4.1561e-04\n",
            "Epoch 30/50\n",
            "65/65 [==============================] - 4s 61ms/step - loss: 4.6150e-04\n",
            "Epoch 31/50\n",
            "65/65 [==============================] - 4s 61ms/step - loss: 4.1642e-04\n",
            "Epoch 32/50\n",
            "65/65 [==============================] - 4s 61ms/step - loss: 3.8823e-04\n",
            "Epoch 33/50\n",
            "65/65 [==============================] - 4s 61ms/step - loss: 4.6875e-04\n",
            "Epoch 34/50\n",
            "65/65 [==============================] - 4s 62ms/step - loss: 4.7188e-04\n",
            "Epoch 35/50\n",
            "65/65 [==============================] - 4s 61ms/step - loss: 4.3310e-04\n",
            "Epoch 36/50\n",
            "65/65 [==============================] - 4s 62ms/step - loss: 4.2278e-04\n",
            "Epoch 37/50\n",
            "65/65 [==============================] - 4s 61ms/step - loss: 4.1754e-04\n",
            "Epoch 38/50\n",
            "65/65 [==============================] - 4s 61ms/step - loss: 4.6980e-04\n",
            "Epoch 39/50\n",
            "65/65 [==============================] - 4s 61ms/step - loss: 4.2419e-04\n",
            "Epoch 40/50\n",
            "65/65 [==============================] - 4s 61ms/step - loss: 3.8825e-04\n",
            "Epoch 41/50\n",
            "65/65 [==============================] - 4s 61ms/step - loss: 4.3944e-04\n",
            "Epoch 42/50\n",
            "65/65 [==============================] - 4s 61ms/step - loss: 4.2663e-04\n",
            "Epoch 43/50\n",
            "65/65 [==============================] - 4s 61ms/step - loss: 4.0581e-04\n",
            "Epoch 44/50\n",
            "65/65 [==============================] - 4s 61ms/step - loss: 4.3624e-04\n",
            "Epoch 45/50\n",
            "65/65 [==============================] - 4s 61ms/step - loss: 4.3088e-04\n",
            "Epoch 46/50\n",
            "65/65 [==============================] - 4s 62ms/step - loss: 4.3299e-04\n",
            "Epoch 47/50\n",
            "65/65 [==============================] - 4s 62ms/step - loss: 4.6122e-04\n",
            "Epoch 48/50\n",
            "65/65 [==============================] - 4s 61ms/step - loss: 4.5609e-04\n",
            "Epoch 49/50\n",
            "65/65 [==============================] - 4s 61ms/step - loss: 4.5326e-04\n",
            "Epoch 50/50\n",
            "65/65 [==============================] - 4s 61ms/step - loss: 3.8735e-04\n"
          ],
          "name": "stdout"
        }
      ]
    },
    {
      "cell_type": "code",
      "metadata": {
        "id": "MBRobPT1Ku4y"
      },
      "source": [
        "model.save('btc_model.h5')"
      ],
      "execution_count": null,
      "outputs": []
    },
    {
      "cell_type": "code",
      "metadata": {
        "colab": {
          "base_uri": "https://localhost:8080/",
          "height": 282
        },
        "id": "f1dgJoKDGvfc",
        "outputId": "2185a491-231a-47e4-aabb-b7e50533eca1"
      },
      "source": [
        "plt.plot(model.history.history['loss'], label = 'loss')"
      ],
      "execution_count": null,
      "outputs": [
        {
          "output_type": "execute_result",
          "data": {
            "text/plain": [
              "[<matplotlib.lines.Line2D at 0x7f076c733890>]"
            ]
          },
          "metadata": {
            "tags": []
          },
          "execution_count": 163
        },
        {
          "output_type": "display_data",
          "data": {
            "image/png": "[encoded data removed]",
            "text/plain": [
              "<Figure size 432x288 with 1 Axes>"
            ]
          },
          "metadata": {
            "tags": [],
            "needs_background": "light"
          }
        }
      ]
    },
    {
      "cell_type": "code",
      "metadata": {
        "colab": {
          "base_uri": "https://localhost:8080/",
          "height": 298
        },
        "id": "9NniR2a-Gvfc",
        "outputId": "2f47cb1d-77d8-4d53-bce5-75cea8ef1489"
      },
      "source": [
        "# plot of actual and predicted price\n",
        "\n",
        "y_pred = model.predict(X_test)\n",
        "plt.plot(y_test/scaler.scale_[0], label = 'actual')\n",
        "plt.plot(y_pred/scaler.scale_[0], label = 'predicted')\n",
        "plt.legend()\n",
        "plt.title('BTC')"
      ],
      "execution_count": null,
      "outputs": [
        {
          "output_type": "execute_result",
          "data": {
            "text/plain": [
              "Text(0.5, 1.0, 'BTC')"
            ]
          },
          "metadata": {
            "tags": []
          },
          "execution_count": 148
        },
        {
          "output_type": "display_data",
          "data": {
            "image/png": "[encoded data removed]",
            "text/plain": [
              "<Figure size 432x288 with 1 Axes>"
            ]
          },
          "metadata": {
            "tags": [],
            "needs_background": "light"
          }
        }
      ]
    },
    {
      "cell_type": "code",
      "metadata": {
        "id": "Cdx-qe3QNhhp"
      },
      "source": [
        "# plt.plot(model.predict(X_train[-30: ])/scaler.scale_[0])"
      ],
      "execution_count": null,
      "outputs": []
    },
    {
      "cell_type": "code",
      "metadata": {
        "colab": {
          "base_uri": "https://localhost:8080/"
        },
        "id": "M46Ti8xqX8-r",
        "outputId": "fd721130-e28c-4a99-8335-7b619b14eee6"
      },
      "source": [
        "y_pred = model.predict(X_test)/scaler.scale_[0]\n",
        "y_pred"
      ],
      "execution_count": null,
      "outputs": [
        {
          "output_type": "execute_result",
          "data": {
            "text/plain": [
              "array([[36596.723]], dtype=float32)"
            ]
          },
          "metadata": {
            "tags": []
          },
          "execution_count": 165
        }
      ]
    },
    {
      "cell_type": "code",
      "metadata": {
        "colab": {
          "base_uri": "https://localhost:8080/",
          "height": 225
        },
        "id": "pmh-d2hCNy9r",
        "outputId": "d92be6b8-5465-4e34-9eb1-212ff72f7c41"
      },
      "source": [
        "df.tail()"
      ],
      "execution_count": null,
      "outputs": [
        {
          "output_type": "execute_result",
          "data": {
            "text/html": [
              "<div>\n",
              "<style scoped>\n",
              "    .dataframe tbody tr th:only-of-type {\n",
              "        vertical-align: middle;\n",
              "    }\n",
              "\n",
              "    .dataframe tbody tr th {\n",
              "        vertical-align: top;\n",
              "    }\n",
              "\n",
              "    .dataframe thead th {\n",
              "        text-align: right;\n",
              "    }\n",
              "</style>\n",
              "<table border=\"1\" class=\"dataframe\">\n",
              "  <thead>\n",
              "    <tr style=\"text-align: right;\">\n",
              "      <th></th>\n",
              "      <th>open</th>\n",
              "      <th>high</th>\n",
              "      <th>low</th>\n",
              "      <th>close</th>\n",
              "      <th>volume</th>\n",
              "    </tr>\n",
              "    <tr>\n",
              "      <th>date</th>\n",
              "      <th></th>\n",
              "      <th></th>\n",
              "      <th></th>\n",
              "      <th></th>\n",
              "      <th></th>\n",
              "    </tr>\n",
              "  </thead>\n",
              "  <tbody>\n",
              "    <tr>\n",
              "      <th>2021-06-02 16:00:00</th>\n",
              "      <td>38040.69</td>\n",
              "      <td>38200.00</td>\n",
              "      <td>37727.37</td>\n",
              "      <td>37884.57</td>\n",
              "      <td>9291.591592</td>\n",
              "    </tr>\n",
              "    <tr>\n",
              "      <th>2021-06-02 20:00:00</th>\n",
              "      <td>37884.58</td>\n",
              "      <td>37929.97</td>\n",
              "      <td>37320.00</td>\n",
              "      <td>37568.68</td>\n",
              "      <td>7443.990253</td>\n",
              "    </tr>\n",
              "    <tr>\n",
              "      <th>2021-06-03 00:00:00</th>\n",
              "      <td>37568.68</td>\n",
              "      <td>37903.14</td>\n",
              "      <td>37170.00</td>\n",
              "      <td>37634.57</td>\n",
              "      <td>8381.714112</td>\n",
              "    </tr>\n",
              "    <tr>\n",
              "      <th>2021-06-03 04:00:00</th>\n",
              "      <td>37635.24</td>\n",
              "      <td>39039.19</td>\n",
              "      <td>37600.00</td>\n",
              "      <td>38634.09</td>\n",
              "      <td>16294.658537</td>\n",
              "    </tr>\n",
              "    <tr>\n",
              "      <th>2021-06-03 08:00:00</th>\n",
              "      <td>38634.77</td>\n",
              "      <td>39420.77</td>\n",
              "      <td>38518.96</td>\n",
              "      <td>39318.51</td>\n",
              "      <td>7857.589835</td>\n",
              "    </tr>\n",
              "  </tbody>\n",
              "</table>\n",
              "</div>"
            ],
            "text/plain": [
              "                         open      high       low     close        volume\n",
              "date                                                                     \n",
              "2021-06-02 16:00:00  38040.69  38200.00  37727.37  37884.57   9291.591592\n",
              "2021-06-02 20:00:00  37884.58  37929.97  37320.00  37568.68   7443.990253\n",
              "2021-06-03 00:00:00  37568.68  37903.14  37170.00  37634.57   8381.714112\n",
              "2021-06-03 04:00:00  37635.24  39039.19  37600.00  38634.09  16294.658537\n",
              "2021-06-03 08:00:00  38634.77  39420.77  38518.96  39318.51   7857.589835"
            ]
          },
          "metadata": {
            "tags": []
          },
          "execution_count": 166
        }
      ]
    },
    {
      "cell_type": "code",
      "metadata": {
        "id": "yF-qlyE9Pmbl"
      },
      "source": [
        "per_change = 100 * (model.predict(X_test) - model.predict(X_train[-1 : ]))/model.predict(X_train[-1 : ])"
      ],
      "execution_count": null,
      "outputs": []
    },
    {
      "cell_type": "code",
      "metadata": {
        "colab": {
          "base_uri": "https://localhost:8080/"
        },
        "id": "5X89jYNGP6uo",
        "outputId": "b270ee55-37f6-4ae4-c55e-e2227cd2a03a"
      },
      "source": [
        "per_change"
      ],
      "execution_count": null,
      "outputs": [
        {
          "output_type": "execute_result",
          "data": {
            "text/plain": [
              "array([[1.9172245]], dtype=float32)"
            ]
          },
          "metadata": {
            "tags": []
          },
          "execution_count": 169
        }
      ]
    },
    {
      "cell_type": "code",
      "metadata": {
        "id": "FIn2xDhcYrON"
      },
      "source": [
        ""
      ],
      "execution_count": null,
      "outputs": []
    }
  ]
}