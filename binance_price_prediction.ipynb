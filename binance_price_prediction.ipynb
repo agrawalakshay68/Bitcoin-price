{
  "nbformat": 4,
  "nbformat_minor": 0,
  "metadata": {
    "kernelspec": {
      "name": "python3",
      "display_name": "Python 3"
    },
    "colab": {
      "name": "binance price prediction.ipynb",
      "provenance": [],
      "collapsed_sections": []
    },
    "language_info": {
      "name": "python"
    },
    "accelerator": "GPU"
  },
  "cells": [
    {
      "cell_type": "markdown",
      "metadata": {
        "id": "kMJRtos1IddI"
      },
      "source": [
        "**The project is based on predction of bitcoin price.**\n",
        "\n",
        "* Bitcoin being the king of the crypto market drives the market, many coins follow similar pattern as that of bitcoin.\n",
        "\n",
        "* Advanced crypto traders have their methods to predict the price of bitcoin some of them are finding the resistances, supports, moving averages etc.\n",
        "\n",
        "* Bitcoin's price data overtime is just a sequence data and **recurrent neural network** has excelled on learning about the sequences, so lets build a recurrent neural network which learn all the trading patterns and predict the price of bitcoin.\n",
        "\n",
        "**Dataset**\n",
        "* We will use bitcoin's prior two year candlestick data to train our model.\n",
        "* We use **Binance API** to fetch the dataset from binance, Binance is one of the largest crypto trading platform to use Binance API we need to create binance account and generate API command.\n",
        "* We use python-binance package which simplifies the data fetching part.\n"
      ]
    },
    {
      "cell_type": "code",
      "metadata": {
        "id": "LuYN5AEdGvfB"
      },
      "source": [
        "# importing libraries\n",
        "from binance.client import Client\n",
        "from datetime import datetime\n",
        "import pandas as pd\n",
        "import keys\n",
        "\n",
        "client = Client(api_key = keys.Pkey , api_secret = keys.Skey) # private API command\n",
        "\n",
        "candles = client.get_klines(symbol = 'LTCUSDT', interval = Client.KLINE_INTERVAL_1HOUR) # just for example we fetch litecoin price in 1h intervals\n",
        "\n",
        "df = pd.DataFrame(candles) "
      ],
      "execution_count": null,
      "outputs": []
    },
    {
      "cell_type": "code",
      "metadata": {
        "id": "jZV44m_tGvfI",
        "outputId": "f3ad7f70-6961-406e-adca-579ea3fc7463"
      },
      "source": [
        "# dataset before preprocessing\n",
        "df.head()"
      ],
      "execution_count": null,
      "outputs": [
        {
          "output_type": "execute_result",
          "data": {
            "text/html": [
              "<div>\n",
              "<style scoped>\n",
              "    .dataframe tbody tr th:only-of-type {\n",
              "        vertical-align: middle;\n",
              "    }\n",
              "\n",
              "    .dataframe tbody tr th {\n",
              "        vertical-align: top;\n",
              "    }\n",
              "\n",
              "    .dataframe thead th {\n",
              "        text-align: right;\n",
              "    }\n",
              "</style>\n",
              "<table border=\"1\" class=\"dataframe\">\n",
              "  <thead>\n",
              "    <tr style=\"text-align: right;\">\n",
              "      <th></th>\n",
              "      <th>0</th>\n",
              "      <th>1</th>\n",
              "      <th>2</th>\n",
              "      <th>3</th>\n",
              "      <th>4</th>\n",
              "      <th>5</th>\n",
              "      <th>6</th>\n",
              "      <th>7</th>\n",
              "      <th>8</th>\n",
              "      <th>9</th>\n",
              "      <th>10</th>\n",
              "      <th>11</th>\n",
              "    </tr>\n",
              "  </thead>\n",
              "  <tbody>\n",
              "    <tr>\n",
              "      <th>0</th>\n",
              "      <td>1620842400000</td>\n",
              "      <td>352.94000000</td>\n",
              "      <td>355.13000000</td>\n",
              "      <td>337.80000000</td>\n",
              "      <td>347.09000000</td>\n",
              "      <td>151648.69324000</td>\n",
              "      <td>1620845999999</td>\n",
              "      <td>52394903.37217390</td>\n",
              "      <td>51906</td>\n",
              "      <td>71007.89629000</td>\n",
              "      <td>24538583.30858960</td>\n",
              "      <td>0</td>\n",
              "    </tr>\n",
              "    <tr>\n",
              "      <th>1</th>\n",
              "      <td>1620846000000</td>\n",
              "      <td>346.90000000</td>\n",
              "      <td>355.50000000</td>\n",
              "      <td>340.78000000</td>\n",
              "      <td>354.80000000</td>\n",
              "      <td>102324.86873000</td>\n",
              "      <td>1620849599999</td>\n",
              "      <td>35713254.60559370</td>\n",
              "      <td>37250</td>\n",
              "      <td>50712.13479000</td>\n",
              "      <td>17705534.69432920</td>\n",
              "      <td>0</td>\n",
              "    </tr>\n",
              "    <tr>\n",
              "      <th>2</th>\n",
              "      <td>1620849600000</td>\n",
              "      <td>354.78000000</td>\n",
              "      <td>358.77000000</td>\n",
              "      <td>351.09000000</td>\n",
              "      <td>356.86000000</td>\n",
              "      <td>61147.56729000</td>\n",
              "      <td>1620853199999</td>\n",
              "      <td>21713218.06773560</td>\n",
              "      <td>20900</td>\n",
              "      <td>30725.02179000</td>\n",
              "      <td>10913445.52928870</td>\n",
              "      <td>0</td>\n",
              "    </tr>\n",
              "    <tr>\n",
              "      <th>3</th>\n",
              "      <td>1620853200000</td>\n",
              "      <td>356.89000000</td>\n",
              "      <td>359.99000000</td>\n",
              "      <td>355.00000000</td>\n",
              "      <td>357.01000000</td>\n",
              "      <td>35879.39881000</td>\n",
              "      <td>1620856799999</td>\n",
              "      <td>12810036.57510250</td>\n",
              "      <td>15780</td>\n",
              "      <td>18483.77686000</td>\n",
              "      <td>6599672.93583970</td>\n",
              "      <td>0</td>\n",
              "    </tr>\n",
              "    <tr>\n",
              "      <th>4</th>\n",
              "      <td>1620856800000</td>\n",
              "      <td>357.00000000</td>\n",
              "      <td>359.00000000</td>\n",
              "      <td>332.61000000</td>\n",
              "      <td>349.15000000</td>\n",
              "      <td>255747.19972000</td>\n",
              "      <td>1620860399999</td>\n",
              "      <td>87405184.30844650</td>\n",
              "      <td>87282</td>\n",
              "      <td>126449.57273000</td>\n",
              "      <td>43242716.81066080</td>\n",
              "      <td>0</td>\n",
              "    </tr>\n",
              "  </tbody>\n",
              "</table>\n",
              "</div>"
            ],
            "text/plain": [
              "              0             1             2             3             4   \\\n",
              "0  1620842400000  352.94000000  355.13000000  337.80000000  347.09000000   \n",
              "1  1620846000000  346.90000000  355.50000000  340.78000000  354.80000000   \n",
              "2  1620849600000  354.78000000  358.77000000  351.09000000  356.86000000   \n",
              "3  1620853200000  356.89000000  359.99000000  355.00000000  357.01000000   \n",
              "4  1620856800000  357.00000000  359.00000000  332.61000000  349.15000000   \n",
              "\n",
              "                5              6                  7      8                9   \\\n",
              "0  151648.69324000  1620845999999  52394903.37217390  51906   71007.89629000   \n",
              "1  102324.86873000  1620849599999  35713254.60559370  37250   50712.13479000   \n",
              "2   61147.56729000  1620853199999  21713218.06773560  20900   30725.02179000   \n",
              "3   35879.39881000  1620856799999  12810036.57510250  15780   18483.77686000   \n",
              "4  255747.19972000  1620860399999  87405184.30844650  87282  126449.57273000   \n",
              "\n",
              "                  10 11  \n",
              "0  24538583.30858960  0  \n",
              "1  17705534.69432920  0  \n",
              "2  10913445.52928870  0  \n",
              "3   6599672.93583970  0  \n",
              "4  43242716.81066080  0  "
            ]
          },
          "metadata": {
            "tags": []
          },
          "execution_count": 16
        }
      ]
    },
    {
      "cell_type": "markdown",
      "metadata": {
        "id": "e2if3CMHJnVC"
      },
      "source": [
        "columns are ordered as :\n",
        "\n",
        "['unix time in ms', 'open', 'high', 'low', 'close', 'volume', 'close_time', 'asset_volume', 'trade_number', 'taker_buy_base', 'taker_by_quote'].\n",
        "\n",
        "We need to name each column of the dataframe in the order shown above. \n",
        "\n",
        "Also the first column is unix time we need to convert it into python date-time object such that it is understandable by us."
      ]
    },
    {
      "cell_type": "code",
      "metadata": {
        "id": "S7dnrZM_GvfM"
      },
      "source": [
        "# converting unix time into python-datetime object\n",
        "date = []\n",
        "for x in df[0].values :\n",
        "    date.append(datetime.fromtimestamp(int(x/1000)))"
      ],
      "execution_count": null,
      "outputs": []
    },
    {
      "cell_type": "code",
      "metadata": {
        "id": "ZMcQX4dQGvfO"
      },
      "source": [
        "df_date = pd.DataFrame(date)\n",
        "df_date.columns = ['date']"
      ],
      "execution_count": null,
      "outputs": []
    },
    {
      "cell_type": "code",
      "metadata": {
        "id": "jD0sej3nGvfP",
        "outputId": "36948c56-21a9-40af-98ea-3f1598db5cf2"
      },
      "source": [
        "df_date.head()"
      ],
      "execution_count": null,
      "outputs": [
        {
          "output_type": "execute_result",
          "data": {
            "text/html": [
              "<div>\n",
              "<style scoped>\n",
              "    .dataframe tbody tr th:only-of-type {\n",
              "        vertical-align: middle;\n",
              "    }\n",
              "\n",
              "    .dataframe tbody tr th {\n",
              "        vertical-align: top;\n",
              "    }\n",
              "\n",
              "    .dataframe thead th {\n",
              "        text-align: right;\n",
              "    }\n",
              "</style>\n",
              "<table border=\"1\" class=\"dataframe\">\n",
              "  <thead>\n",
              "    <tr style=\"text-align: right;\">\n",
              "      <th></th>\n",
              "      <th>date</th>\n",
              "    </tr>\n",
              "  </thead>\n",
              "  <tbody>\n",
              "    <tr>\n",
              "      <th>0</th>\n",
              "      <td>2021-05-12 23:30:00</td>\n",
              "    </tr>\n",
              "    <tr>\n",
              "      <th>1</th>\n",
              "      <td>2021-05-13 00:30:00</td>\n",
              "    </tr>\n",
              "    <tr>\n",
              "      <th>2</th>\n",
              "      <td>2021-05-13 01:30:00</td>\n",
              "    </tr>\n",
              "    <tr>\n",
              "      <th>3</th>\n",
              "      <td>2021-05-13 02:30:00</td>\n",
              "    </tr>\n",
              "    <tr>\n",
              "      <th>4</th>\n",
              "      <td>2021-05-13 03:30:00</td>\n",
              "    </tr>\n",
              "  </tbody>\n",
              "</table>\n",
              "</div>"
            ],
            "text/plain": [
              "                 date\n",
              "0 2021-05-12 23:30:00\n",
              "1 2021-05-13 00:30:00\n",
              "2 2021-05-13 01:30:00\n",
              "3 2021-05-13 02:30:00\n",
              "4 2021-05-13 03:30:00"
            ]
          },
          "metadata": {
            "tags": []
          },
          "execution_count": 20
        }
      ]
    },
    {
      "cell_type": "code",
      "metadata": {
        "id": "KPagPyqLGvfQ"
      },
      "source": [
        "df = df.join(df_date)"
      ],
      "execution_count": null,
      "outputs": []
    },
    {
      "cell_type": "code",
      "metadata": {
        "id": "AKWZlVa-GvfQ"
      },
      "source": [
        "df.set_index('date', inplace=True)"
      ],
      "execution_count": null,
      "outputs": []
    },
    {
      "cell_type": "code",
      "metadata": {
        "id": "Zj1b3hQzGvfR",
        "outputId": "8cb23a50-6adc-40fb-c448-e0a3f12b3d20"
      },
      "source": [
        "df.columns = ['open', 'high', 'low', 'close', 'volume', 'close_time', 'asset_volume', 'trade_number', 'taker_buy_base', 'taker_by_quote']\n",
        "df.head()"
      ],
      "execution_count": null,
      "outputs": [
        {
          "output_type": "execute_result",
          "data": {
            "text/html": [
              "<div>\n",
              "<style scoped>\n",
              "    .dataframe tbody tr th:only-of-type {\n",
              "        vertical-align: middle;\n",
              "    }\n",
              "\n",
              "    .dataframe tbody tr th {\n",
              "        vertical-align: top;\n",
              "    }\n",
              "\n",
              "    .dataframe thead th {\n",
              "        text-align: right;\n",
              "    }\n",
              "</style>\n",
              "<table border=\"1\" class=\"dataframe\">\n",
              "  <thead>\n",
              "    <tr style=\"text-align: right;\">\n",
              "      <th></th>\n",
              "      <th>open</th>\n",
              "      <th>high</th>\n",
              "      <th>low</th>\n",
              "      <th>close</th>\n",
              "      <th>volume</th>\n",
              "      <th>close_time</th>\n",
              "      <th>asset_volume</th>\n",
              "      <th>trade_number</th>\n",
              "      <th>taker_buy_base</th>\n",
              "      <th>taker_by_quote</th>\n",
              "    </tr>\n",
              "    <tr>\n",
              "      <th>date</th>\n",
              "      <th></th>\n",
              "      <th></th>\n",
              "      <th></th>\n",
              "      <th></th>\n",
              "      <th></th>\n",
              "      <th></th>\n",
              "      <th></th>\n",
              "      <th></th>\n",
              "      <th></th>\n",
              "      <th></th>\n",
              "    </tr>\n",
              "  </thead>\n",
              "  <tbody>\n",
              "    <tr>\n",
              "      <th>2021-05-12 23:30:00</th>\n",
              "      <td>352.94000000</td>\n",
              "      <td>355.13000000</td>\n",
              "      <td>337.80000000</td>\n",
              "      <td>347.09000000</td>\n",
              "      <td>151648.69324000</td>\n",
              "      <td>1620845999999</td>\n",
              "      <td>52394903.37217390</td>\n",
              "      <td>51906</td>\n",
              "      <td>71007.89629000</td>\n",
              "      <td>24538583.30858960</td>\n",
              "    </tr>\n",
              "    <tr>\n",
              "      <th>2021-05-13 00:30:00</th>\n",
              "      <td>346.90000000</td>\n",
              "      <td>355.50000000</td>\n",
              "      <td>340.78000000</td>\n",
              "      <td>354.80000000</td>\n",
              "      <td>102324.86873000</td>\n",
              "      <td>1620849599999</td>\n",
              "      <td>35713254.60559370</td>\n",
              "      <td>37250</td>\n",
              "      <td>50712.13479000</td>\n",
              "      <td>17705534.69432920</td>\n",
              "    </tr>\n",
              "    <tr>\n",
              "      <th>2021-05-13 01:30:00</th>\n",
              "      <td>354.78000000</td>\n",
              "      <td>358.77000000</td>\n",
              "      <td>351.09000000</td>\n",
              "      <td>356.86000000</td>\n",
              "      <td>61147.56729000</td>\n",
              "      <td>1620853199999</td>\n",
              "      <td>21713218.06773560</td>\n",
              "      <td>20900</td>\n",
              "      <td>30725.02179000</td>\n",
              "      <td>10913445.52928870</td>\n",
              "    </tr>\n",
              "    <tr>\n",
              "      <th>2021-05-13 02:30:00</th>\n",
              "      <td>356.89000000</td>\n",
              "      <td>359.99000000</td>\n",
              "      <td>355.00000000</td>\n",
              "      <td>357.01000000</td>\n",
              "      <td>35879.39881000</td>\n",
              "      <td>1620856799999</td>\n",
              "      <td>12810036.57510250</td>\n",
              "      <td>15780</td>\n",
              "      <td>18483.77686000</td>\n",
              "      <td>6599672.93583970</td>\n",
              "    </tr>\n",
              "    <tr>\n",
              "      <th>2021-05-13 03:30:00</th>\n",
              "      <td>357.00000000</td>\n",
              "      <td>359.00000000</td>\n",
              "      <td>332.61000000</td>\n",
              "      <td>349.15000000</td>\n",
              "      <td>255747.19972000</td>\n",
              "      <td>1620860399999</td>\n",
              "      <td>87405184.30844650</td>\n",
              "      <td>87282</td>\n",
              "      <td>126449.57273000</td>\n",
              "      <td>43242716.81066080</td>\n",
              "    </tr>\n",
              "  </tbody>\n",
              "</table>\n",
              "</div>"
            ],
            "text/plain": [
              "                             open          high           low         close  \\\n",
              "date                                                                          \n",
              "2021-05-12 23:30:00  352.94000000  355.13000000  337.80000000  347.09000000   \n",
              "2021-05-13 00:30:00  346.90000000  355.50000000  340.78000000  354.80000000   \n",
              "2021-05-13 01:30:00  354.78000000  358.77000000  351.09000000  356.86000000   \n",
              "2021-05-13 02:30:00  356.89000000  359.99000000  355.00000000  357.01000000   \n",
              "2021-05-13 03:30:00  357.00000000  359.00000000  332.61000000  349.15000000   \n",
              "\n",
              "                              volume     close_time       asset_volume  \\\n",
              "date                                                                     \n",
              "2021-05-12 23:30:00  151648.69324000  1620845999999  52394903.37217390   \n",
              "2021-05-13 00:30:00  102324.86873000  1620849599999  35713254.60559370   \n",
              "2021-05-13 01:30:00   61147.56729000  1620853199999  21713218.06773560   \n",
              "2021-05-13 02:30:00   35879.39881000  1620856799999  12810036.57510250   \n",
              "2021-05-13 03:30:00  255747.19972000  1620860399999  87405184.30844650   \n",
              "\n",
              "                     trade_number   taker_buy_base     taker_by_quote  \n",
              "date                                                                   \n",
              "2021-05-12 23:30:00         51906   71007.89629000  24538583.30858960  \n",
              "2021-05-13 00:30:00         37250   50712.13479000  17705534.69432920  \n",
              "2021-05-13 01:30:00         20900   30725.02179000  10913445.52928870  \n",
              "2021-05-13 02:30:00         15780   18483.77686000   6599672.93583970  \n",
              "2021-05-13 03:30:00         87282  126449.57273000  43242716.81066080  "
            ]
          },
          "metadata": {
            "tags": []
          },
          "execution_count": 24
        }
      ]
    },
    {
      "cell_type": "markdown",
      "metadata": {
        "id": "_h-gDL4wK1du"
      },
      "source": [
        "### **Now lets do all the things in our custom function name binance_price.**\n",
        "\n",
        "\n",
        "*   The function has three argumnets **name of the coin**, **time_interval** which controls time_interval of the data fetched, **from_date** which controlls from which date we want to fetch data.\n",
        "\n",
        "*   The function returns the data frame containing candlestick data with index as the date and time in UTC.\n",
        "\n",
        "**Preprocessing Done:**\n",
        "\n",
        "*   Conversion of unix time into python's datetime object.\n",
        "*   Removed some columns which were unecessary such as trade number etc.\n",
        "*   After removal we have 5 columns named open, high, low, close, volume.\n",
        "\n",
        "**Feature Meaning**:\n",
        "\n",
        "* Open : Open price of the coin(price of the coin when interval started).\n",
        "\n",
        "* high : highest price attained during that interval.\n",
        "\n",
        "* low : lowest price attained during that interval.\n",
        "\n",
        "* close : close price of the coin (price of the coin when interval ended).\n",
        "\n",
        "* volume : number of coins traded (buy or sold) withn an interval.\n",
        "\n",
        "\n",
        "\n",
        "\n",
        "\n",
        "\n"
      ]
    },
    {
      "cell_type": "code",
      "metadata": {
        "colab": {
          "base_uri": "https://localhost:8080/"
        },
        "id": "P6kjFrsfGvfS",
        "outputId": "f05a4cc4-c7b9-4b10-e857-96aeb31c1168"
      },
      "source": [
        "!pip install python-binance\n",
        "from binance.client import Client\n",
        "from datetime import datetime\n",
        "import pandas as pd\n",
        "import keys\n",
        "import matplotlib.pyplot as plt\n",
        "import numpy as np\n",
        "\n",
        "def binance_price(coin, time_interval, from_date):\n",
        "    client = Client(api_key = keys.Pkey , api_secret = keys.Skey)\n",
        "    candles = client.get_historical_klines(coin, time_interval, from_date) # \"1 Jun, 2021\"\n",
        "    df = pd.DataFrame(candles)\n",
        "    date = []\n",
        "    for x in df[0].values :\n",
        "        date.append(datetime.fromtimestamp(int(x/1000)))\n",
        "    \n",
        "    df = df.iloc[: , 1:6] # keeping necessary columns\n",
        "    \n",
        "    df_date = pd.DataFrame(date)\n",
        "    df_date.columns = ['date'] # adding date columns after conversion.\n",
        "    \n",
        "    df = df.join(df_date)\n",
        "    df.set_index('date', inplace=True)\n",
        "    \n",
        "    df.columns = ['open', 'high', 'low', 'close', 'volume']\n",
        "    df = df.astype('float')\n",
        "    return df, client"
      ],
      "execution_count": null,
      "outputs": [
        {
          "output_type": "stream",
          "text": [
            "Collecting python-binance\n",
            "\u001b[?25l  Downloading https://files.pythonhosted.org/packages/db/1b/97beaa5f8f71a76e1f7492be33279cf920a37d1f385ffff5c26827781f02/python_binance-1.0.12-py2.py3-none-any.whl (58kB)\n",
            "\u001b[K     |████████████████████████████████| 61kB 3.0MB/s \n",
            "\u001b[?25hRequirement already satisfied: requests in /usr/local/lib/python3.7/dist-packages (from python-binance) (2.23.0)\n",
            "Collecting ujson\n",
            "\u001b[?25l  Downloading https://files.pythonhosted.org/packages/17/4e/50e8e4cf5f00b537095711c2c86ac4d7191aed2b4fffd5a19f06898f6929/ujson-4.0.2-cp37-cp37m-manylinux1_x86_64.whl (179kB)\n",
            "\u001b[K     |████████████████████████████████| 184kB 8.6MB/s \n",
            "\u001b[?25hCollecting websockets\n",
            "\u001b[?25l  Downloading https://files.pythonhosted.org/packages/84/64/78c2b3fe37730b30dca3c93d1f7f4a4286767f86e7c04cf3571b39bc2fb7/websockets-9.1-cp37-cp37m-manylinux2010_x86_64.whl (103kB)\n",
            "\u001b[K     |████████████████████████████████| 112kB 39.6MB/s \n",
            "\u001b[?25hRequirement already satisfied: six in /usr/local/lib/python3.7/dist-packages (from python-binance) (1.15.0)\n",
            "Collecting dateparser\n",
            "\u001b[?25l  Downloading https://files.pythonhosted.org/packages/78/c4/b5ddc3eeac974d85055d88c1e6b62cc492fc1a93dbe3b66a45a756a7b807/dateparser-1.0.0-py2.py3-none-any.whl (279kB)\n",
            "\u001b[K     |████████████████████████████████| 286kB 37.2MB/s \n",
            "\u001b[?25hCollecting aiohttp\n",
            "\u001b[?25l  Downloading https://files.pythonhosted.org/packages/88/c0/5890b4c8b04a79b7360e8fe4490feb0bb3ab179743f199f0e6220cebd568/aiohttp-3.7.4.post0-cp37-cp37m-manylinux2014_x86_64.whl (1.3MB)\n",
            "\u001b[K     |████████████████████████████████| 1.3MB 26.1MB/s \n",
            "\u001b[?25hRequirement already satisfied: chardet<4,>=3.0.2 in /usr/local/lib/python3.7/dist-packages (from requests->python-binance) (3.0.4)\n",
            "Requirement already satisfied: urllib3!=1.25.0,!=1.25.1,<1.26,>=1.21.1 in /usr/local/lib/python3.7/dist-packages (from requests->python-binance) (1.24.3)\n",
            "Requirement already satisfied: idna<3,>=2.5 in /usr/local/lib/python3.7/dist-packages (from requests->python-binance) (2.10)\n",
            "Requirement already satisfied: certifi>=2017.4.17 in /usr/local/lib/python3.7/dist-packages (from requests->python-binance) (2020.12.5)\n",
            "Requirement already satisfied: tzlocal in /usr/local/lib/python3.7/dist-packages (from dateparser->python-binance) (1.5.1)\n",
            "Requirement already satisfied: pytz in /usr/local/lib/python3.7/dist-packages (from dateparser->python-binance) (2018.9)\n",
            "Requirement already satisfied: python-dateutil in /usr/local/lib/python3.7/dist-packages (from dateparser->python-binance) (2.8.1)\n",
            "Requirement already satisfied: regex!=2019.02.19 in /usr/local/lib/python3.7/dist-packages (from dateparser->python-binance) (2019.12.20)\n",
            "Requirement already satisfied: attrs>=17.3.0 in /usr/local/lib/python3.7/dist-packages (from aiohttp->python-binance) (21.2.0)\n",
            "Collecting yarl<2.0,>=1.0\n",
            "\u001b[?25l  Downloading https://files.pythonhosted.org/packages/f1/62/046834c5fc998c88ab2ef722f5d42122230a632212c8afa76418324f53ff/yarl-1.6.3-cp37-cp37m-manylinux2014_x86_64.whl (294kB)\n",
            "\u001b[K     |████████████████████████████████| 296kB 44.1MB/s \n",
            "\u001b[?25hCollecting async-timeout<4.0,>=3.0\n",
            "  Downloading https://files.pythonhosted.org/packages/e1/1e/5a4441be21b0726c4464f3f23c8b19628372f606755a9d2e46c187e65ec4/async_timeout-3.0.1-py3-none-any.whl\n",
            "Collecting multidict<7.0,>=4.5\n",
            "\u001b[?25l  Downloading https://files.pythonhosted.org/packages/7c/a6/4123b8165acbe773d1a8dc8e3f0d1edea16d29f7de018eda769abb56bd30/multidict-5.1.0-cp37-cp37m-manylinux2014_x86_64.whl (142kB)\n",
            "\u001b[K     |████████████████████████████████| 143kB 39.4MB/s \n",
            "\u001b[?25hRequirement already satisfied: typing-extensions>=3.6.5 in /usr/local/lib/python3.7/dist-packages (from aiohttp->python-binance) (3.7.4.3)\n",
            "Installing collected packages: ujson, websockets, dateparser, multidict, yarl, async-timeout, aiohttp, python-binance\n",
            "Successfully installed aiohttp-3.7.4.post0 async-timeout-3.0.1 dateparser-1.0.0 multidict-5.1.0 python-binance-1.0.12 ujson-4.0.2 websockets-9.1 yarl-1.6.3\n"
          ],
          "name": "stdout"
        }
      ]
    },
    {
      "cell_type": "code",
      "metadata": {
        "id": "fLqwVhdPGvfU",
        "colab": {
          "base_uri": "https://localhost:8080/",
          "height": 303
        },
        "outputId": "ed6b4128-22e5-4ca9-d224-370e43be9e0a"
      },
      "source": [
        "df, client = binance_price('BTCUSDT', '4h', '1 Jun, 2017') # prior 4 year data."
      ],
      "execution_count": null,
      "outputs": [
        {
          "output_type": "error",
          "ename": "KeyboardInterrupt",
          "evalue": "ignored",
          "traceback": [
            "\u001b[0;31m---------------------------------------------------------------------------\u001b[0m",
            "\u001b[0;31mKeyboardInterrupt\u001b[0m                         Traceback (most recent call last)",
            "\u001b[0;32m<ipython-input-4-12dbb91a8e9a>\u001b[0m in \u001b[0;36m<module>\u001b[0;34m()\u001b[0m\n\u001b[0;32m----> 1\u001b[0;31m \u001b[0mdf\u001b[0m\u001b[0;34m,\u001b[0m \u001b[0mclient\u001b[0m \u001b[0;34m=\u001b[0m \u001b[0mbinance_price\u001b[0m\u001b[0;34m(\u001b[0m\u001b[0;34m'BTCUSDT'\u001b[0m\u001b[0;34m,\u001b[0m \u001b[0;34m'1m'\u001b[0m\u001b[0;34m,\u001b[0m \u001b[0;34m'1 Jan, 2020'\u001b[0m\u001b[0;34m)\u001b[0m\u001b[0;34m\u001b[0m\u001b[0;34m\u001b[0m\u001b[0m\n\u001b[0m",
            "\u001b[0;32m<ipython-input-1-9c3bbfdf8fe5>\u001b[0m in \u001b[0;36mbinance_price\u001b[0;34m(coin, time_interval, from_date)\u001b[0m\n\u001b[1;32m      9\u001b[0m \u001b[0;32mdef\u001b[0m \u001b[0mbinance_price\u001b[0m\u001b[0;34m(\u001b[0m\u001b[0mcoin\u001b[0m\u001b[0;34m,\u001b[0m \u001b[0mtime_interval\u001b[0m\u001b[0;34m,\u001b[0m \u001b[0mfrom_date\u001b[0m\u001b[0;34m)\u001b[0m\u001b[0;34m:\u001b[0m\u001b[0;34m\u001b[0m\u001b[0;34m\u001b[0m\u001b[0m\n\u001b[1;32m     10\u001b[0m     \u001b[0mclient\u001b[0m \u001b[0;34m=\u001b[0m \u001b[0mClient\u001b[0m\u001b[0;34m(\u001b[0m\u001b[0mapi_key\u001b[0m \u001b[0;34m=\u001b[0m \u001b[0mkeys\u001b[0m\u001b[0;34m.\u001b[0m\u001b[0mPkey\u001b[0m \u001b[0;34m,\u001b[0m \u001b[0mapi_secret\u001b[0m \u001b[0;34m=\u001b[0m \u001b[0mkeys\u001b[0m\u001b[0;34m.\u001b[0m\u001b[0mSkey\u001b[0m\u001b[0;34m)\u001b[0m\u001b[0;34m\u001b[0m\u001b[0;34m\u001b[0m\u001b[0m\n\u001b[0;32m---> 11\u001b[0;31m     \u001b[0mcandles\u001b[0m \u001b[0;34m=\u001b[0m \u001b[0mclient\u001b[0m\u001b[0;34m.\u001b[0m\u001b[0mget_historical_klines\u001b[0m\u001b[0;34m(\u001b[0m\u001b[0mcoin\u001b[0m\u001b[0;34m,\u001b[0m \u001b[0mtime_interval\u001b[0m\u001b[0;34m,\u001b[0m \u001b[0mfrom_date\u001b[0m\u001b[0;34m)\u001b[0m \u001b[0;31m# \"1 Jun, 2021\"\u001b[0m\u001b[0;34m\u001b[0m\u001b[0;34m\u001b[0m\u001b[0m\n\u001b[0m\u001b[1;32m     12\u001b[0m     \u001b[0mdf\u001b[0m \u001b[0;34m=\u001b[0m \u001b[0mpd\u001b[0m\u001b[0;34m.\u001b[0m\u001b[0mDataFrame\u001b[0m\u001b[0;34m(\u001b[0m\u001b[0mcandles\u001b[0m\u001b[0;34m)\u001b[0m\u001b[0;34m\u001b[0m\u001b[0;34m\u001b[0m\u001b[0m\n\u001b[1;32m     13\u001b[0m     \u001b[0mdate\u001b[0m \u001b[0;34m=\u001b[0m \u001b[0;34m[\u001b[0m\u001b[0;34m]\u001b[0m\u001b[0;34m\u001b[0m\u001b[0;34m\u001b[0m\u001b[0m\n",
            "\u001b[0;32m/usr/local/lib/python3.7/dist-packages/binance/client.py\u001b[0m in \u001b[0;36mget_historical_klines\u001b[0;34m(self, symbol, interval, start_str, end_str, limit, klines_type)\u001b[0m\n\u001b[1;32m    930\u001b[0m \u001b[0;34m\u001b[0m\u001b[0m\n\u001b[1;32m    931\u001b[0m         \"\"\"\n\u001b[0;32m--> 932\u001b[0;31m         \u001b[0;32mreturn\u001b[0m \u001b[0mself\u001b[0m\u001b[0;34m.\u001b[0m\u001b[0m_historical_klines\u001b[0m\u001b[0;34m(\u001b[0m\u001b[0msymbol\u001b[0m\u001b[0;34m,\u001b[0m \u001b[0minterval\u001b[0m\u001b[0;34m,\u001b[0m \u001b[0mstart_str\u001b[0m\u001b[0;34m,\u001b[0m \u001b[0mend_str\u001b[0m\u001b[0;34m=\u001b[0m\u001b[0mend_str\u001b[0m\u001b[0;34m,\u001b[0m \u001b[0mlimit\u001b[0m\u001b[0;34m=\u001b[0m\u001b[0mlimit\u001b[0m\u001b[0;34m,\u001b[0m \u001b[0mklines_type\u001b[0m\u001b[0;34m=\u001b[0m\u001b[0mklines_type\u001b[0m\u001b[0;34m)\u001b[0m\u001b[0;34m\u001b[0m\u001b[0;34m\u001b[0m\u001b[0m\n\u001b[0m\u001b[1;32m    933\u001b[0m \u001b[0;34m\u001b[0m\u001b[0m\n\u001b[1;32m    934\u001b[0m     def _historical_klines(self, symbol, interval, start_str, end_str=None, limit=500,\n",
            "\u001b[0;32m/usr/local/lib/python3.7/dist-packages/binance/client.py\u001b[0m in \u001b[0;36m_historical_klines\u001b[0;34m(self, symbol, interval, start_str, end_str, limit, klines_type)\u001b[0m\n\u001b[1;32m   1006\u001b[0m             \u001b[0;31m# sleep after every 3rd call to be kind to the API\u001b[0m\u001b[0;34m\u001b[0m\u001b[0;34m\u001b[0m\u001b[0;34m\u001b[0m\u001b[0m\n\u001b[1;32m   1007\u001b[0m             \u001b[0;32mif\u001b[0m \u001b[0midx\u001b[0m \u001b[0;34m%\u001b[0m \u001b[0;36m3\u001b[0m \u001b[0;34m==\u001b[0m \u001b[0;36m0\u001b[0m\u001b[0;34m:\u001b[0m\u001b[0;34m\u001b[0m\u001b[0;34m\u001b[0m\u001b[0m\n\u001b[0;32m-> 1008\u001b[0;31m                 \u001b[0mtime\u001b[0m\u001b[0;34m.\u001b[0m\u001b[0msleep\u001b[0m\u001b[0;34m(\u001b[0m\u001b[0;36m1\u001b[0m\u001b[0;34m)\u001b[0m\u001b[0;34m\u001b[0m\u001b[0;34m\u001b[0m\u001b[0m\n\u001b[0m\u001b[1;32m   1009\u001b[0m \u001b[0;34m\u001b[0m\u001b[0m\n\u001b[1;32m   1010\u001b[0m         \u001b[0;32mreturn\u001b[0m \u001b[0moutput_data\u001b[0m\u001b[0;34m\u001b[0m\u001b[0;34m\u001b[0m\u001b[0m\n",
            "\u001b[0;31mKeyboardInterrupt\u001b[0m: "
          ]
        }
      ]
    },
    {
      "cell_type": "code",
      "metadata": {
        "colab": {
          "base_uri": "https://localhost:8080/"
        },
        "id": "n-rcicIqGvfU",
        "outputId": "3ad5b6a4-a941-45b1-9fbd-3f739262a831"
      },
      "source": [
        "len(df)"
      ],
      "execution_count": null,
      "outputs": [
        {
          "output_type": "execute_result",
          "data": {
            "text/plain": [
              "8301"
            ]
          },
          "metadata": {
            "tags": []
          },
          "execution_count": 150
        }
      ]
    },
    {
      "cell_type": "code",
      "metadata": {
        "colab": {
          "base_uri": "https://localhost:8080/",
          "height": 294
        },
        "id": "uQzR5lILGvfV",
        "outputId": "b9f77619-f8bb-4f27-ecc1-0e05fb63ff91"
      },
      "source": [
        "# Plot of the btc open price overtime\n",
        "df.open.plot()"
      ],
      "execution_count": null,
      "outputs": [
        {
          "output_type": "execute_result",
          "data": {
            "text/plain": [
              "<matplotlib.axes._subplots.AxesSubplot at 0x7f07494f6c10>"
            ]
          },
          "metadata": {
            "tags": []
          },
          "execution_count": 151
        },
        {
          "output_type": "display_data",
          "data": {
            "image/png": "[encoded data removed]",
            "text/plain": [
              "<Figure size 432x288 with 1 Axes>"
            ]
          },
          "metadata": {
            "tags": [],
            "needs_background": "light"
          }
        }
      ]
    },
    {
      "cell_type": "code",
      "metadata": {
        "colab": {
          "base_uri": "https://localhost:8080/",
          "height": 225
        },
        "id": "H59UeXKqGvfW",
        "outputId": "87f5b002-6285-42e0-9cb8-0985f675f1f4"
      },
      "source": [
        "df.tail()"
      ],
      "execution_count": null,
      "outputs": [
        {
          "output_type": "execute_result",
          "data": {
            "text/html": [
              "<div>\n",
              "<style scoped>\n",
              "    .dataframe tbody tr th:only-of-type {\n",
              "        vertical-align: middle;\n",
              "    }\n",
              "\n",
              "    .dataframe tbody tr th {\n",
              "        vertical-align: top;\n",
              "    }\n",
              "\n",
              "    .dataframe thead th {\n",
              "        text-align: right;\n",
              "    }\n",
              "</style>\n",
              "<table border=\"1\" class=\"dataframe\">\n",
              "  <thead>\n",
              "    <tr style=\"text-align: right;\">\n",
              "      <th></th>\n",
              "      <th>open</th>\n",
              "      <th>high</th>\n",
              "      <th>low</th>\n",
              "      <th>close</th>\n",
              "      <th>volume</th>\n",
              "    </tr>\n",
              "    <tr>\n",
              "      <th>date</th>\n",
              "      <th></th>\n",
              "      <th></th>\n",
              "      <th></th>\n",
              "      <th></th>\n",
              "      <th></th>\n",
              "    </tr>\n",
              "  </thead>\n",
              "  <tbody>\n",
              "    <tr>\n",
              "      <th>2021-06-02 16:00:00</th>\n",
              "      <td>38040.69</td>\n",
              "      <td>38200.00</td>\n",
              "      <td>37727.37</td>\n",
              "      <td>37884.57</td>\n",
              "      <td>9291.591592</td>\n",
              "    </tr>\n",
              "    <tr>\n",
              "      <th>2021-06-02 20:00:00</th>\n",
              "      <td>37884.58</td>\n",
              "      <td>37929.97</td>\n",
              "      <td>37320.00</td>\n",
              "      <td>37568.68</td>\n",
              "      <td>7443.990253</td>\n",
              "    </tr>\n",
              "    <tr>\n",
              "      <th>2021-06-03 00:00:00</th>\n",
              "      <td>37568.68</td>\n",
              "      <td>37903.14</td>\n",
              "      <td>37170.00</td>\n",
              "      <td>37634.57</td>\n",
              "      <td>8381.714112</td>\n",
              "    </tr>\n",
              "    <tr>\n",
              "      <th>2021-06-03 04:00:00</th>\n",
              "      <td>37635.24</td>\n",
              "      <td>39039.19</td>\n",
              "      <td>37600.00</td>\n",
              "      <td>38634.09</td>\n",
              "      <td>16294.658537</td>\n",
              "    </tr>\n",
              "    <tr>\n",
              "      <th>2021-06-03 08:00:00</th>\n",
              "      <td>38634.77</td>\n",
              "      <td>39420.77</td>\n",
              "      <td>38518.96</td>\n",
              "      <td>39318.51</td>\n",
              "      <td>7857.589835</td>\n",
              "    </tr>\n",
              "  </tbody>\n",
              "</table>\n",
              "</div>"
            ],
            "text/plain": [
              "                         open      high       low     close        volume\n",
              "date                                                                     \n",
              "2021-06-02 16:00:00  38040.69  38200.00  37727.37  37884.57   9291.591592\n",
              "2021-06-02 20:00:00  37884.58  37929.97  37320.00  37568.68   7443.990253\n",
              "2021-06-03 00:00:00  37568.68  37903.14  37170.00  37634.57   8381.714112\n",
              "2021-06-03 04:00:00  37635.24  39039.19  37600.00  38634.09  16294.658537\n",
              "2021-06-03 08:00:00  38634.77  39420.77  38518.96  39318.51   7857.589835"
            ]
          },
          "metadata": {
            "tags": []
          },
          "execution_count": 152
        }
      ]
    },
    {
      "cell_type": "markdown",
      "metadata": {
        "id": "zxdnAb8qPF-v"
      },
      "source": [
        "We need to scale features as features have **different ranges**, if not done our model training will be instable and slow.\n",
        "\n",
        "We use sklearn's **MinMaxScaler** for the scaling operation."
      ]
    },
    {
      "cell_type": "code",
      "metadata": {
        "id": "hnpU_8orGvfW"
      },
      "source": [
        "# We need to scale features as features have different ranges, if not done our model training will be instable and slow.\n",
        "\n",
        "from sklearn.preprocessing import MinMaxScaler\n",
        "scaler = MinMaxScaler()\n",
        "df1 = scaler.fit_transform(df)"
      ],
      "execution_count": null,
      "outputs": []
    },
    {
      "cell_type": "markdown",
      "metadata": {
        "id": "oZuVO15PPk-a"
      },
      "source": [
        "Now we need to prepare the dataset in a some sequence.\n",
        "\n",
        "We call 60 consecutive rows in our dataset as the an input istance and just next row's open price as the output for the sequence (here sequence has 60 time steps.)\n",
        "\n",
        "So example, X1 (first training instance) has first 60 rows of the dataset and 61th row's open column as y1.\n",
        "\n",
        "Note each timestep has five features.\n",
        "\n",
        "The below code-cell does the same."
      ]
    },
    {
      "cell_type": "code",
      "metadata": {
        "id": "GnXzi9laGvfX"
      },
      "source": [
        "# Code to generate the dataset \n",
        "# we are excuding last 30 time steps of the dataset as we will use it for cross-validation\n",
        "\n",
        "X_train = []\n",
        "y_train = []\n",
        "time_step = 60\n",
        "\n",
        "for i in range(len(df1) - 30 - time_step):\n",
        "    X_train.append(df1[i : i + time_step])\n",
        "    y_train.append(df1[i + time_step][0])\n",
        "    \n",
        "X_train = np.array(X_train)\n",
        "y_train = np.array(y_train)"
      ],
      "execution_count": null,
      "outputs": []
    },
    {
      "cell_type": "code",
      "metadata": {
        "id": "VbInV61oLImX"
      },
      "source": [
        "# X_train = []\n",
        "# y_train = []\n",
        "# time_step = 60\n",
        "\n",
        "# for i in range(len(df1) -  time_step):\n",
        "#     X_train.append(df1[i : i + time_step])\n",
        "#     y_train.append(df1[i + time_step][0])\n",
        "    \n",
        "# X_train = np.array(X_train)\n",
        "# y_train = np.array(y_train)\n",
        "\n",
        "# X_test = np.array(df1[len(df1) - time_step : len(df1)]).reshape(1, time_step, 5)\n"
      ],
      "execution_count": null,
      "outputs": []
    },
    {
      "cell_type": "code",
      "metadata": {
        "colab": {
          "base_uri": "https://localhost:8080/"
        },
        "id": "JcJU5c6kGvfY",
        "outputId": "fa4205aa-374a-4b48-b875-50d8d22092f9"
      },
      "source": [
        "X_train.shape"
      ],
      "execution_count": null,
      "outputs": [
        {
          "output_type": "execute_result",
          "data": {
            "text/plain": [
              "(8241, 60, 5)"
            ]
          },
          "metadata": {
            "tags": []
          },
          "execution_count": 156
        }
      ]
    },
    {
      "cell_type": "code",
      "metadata": {
        "id": "hMuv4jYeGvfY"
      },
      "source": [
        "# Generating the test set which contains last 30 instances for cross-validation\n",
        "\n",
        "X_test = []\n",
        "y_test = []\n",
        "\n",
        "for i in range(len(df1)-30-time_step, len(df1)-time_step) :\n",
        "    X_test.append(df1[i : i + time_step])\n",
        "    y_test.append(df1[i + time_step][0])\n",
        "    \n",
        "X_test = np.array(X_test)\n",
        "y_test = np.array(y_test)\n"
      ],
      "execution_count": null,
      "outputs": []
    },
    {
      "cell_type": "code",
      "metadata": {
        "colab": {
          "base_uri": "https://localhost:8080/"
        },
        "id": "mJ7GM_0IGvfZ",
        "outputId": "81cafd7d-16dd-4c0f-e4a8-962667045d70"
      },
      "source": [
        "X_test.shape"
      ],
      "execution_count": null,
      "outputs": [
        {
          "output_type": "execute_result",
          "data": {
            "text/plain": [
              "(1, 60, 5)"
            ]
          },
          "metadata": {
            "tags": []
          },
          "execution_count": 158
        }
      ]
    },
    {
      "cell_type": "markdown",
      "metadata": {
        "id": "snLM-0yrSpLx"
      },
      "source": [
        "We use **Stacked LSTM** network.\n",
        "\n",
        "1. The first layer is LSTM layer with **64 units and return_sequences = True** \n",
        " (means it will return the sequence not only the last timestep's output).\n",
        "\n",
        "  For using stacked LSTM we need to set return_sequences = True, to preserve the sequence orientation of data.\n",
        "\n",
        "2. **Dropout layer** to prevent overfitting with dropout rate equal to 0.2.\n",
        "\n",
        "3. The third layer is LSTM layer with **64 units** and return_sequnces = True.\n",
        " \n",
        "4. Dropout layer with rate = 0.2.\n",
        "\n",
        "5. The fifth layer is LSTM layer with **32 units** and return_sequences = True.\n",
        "\n",
        "6. Dropout layer with rate = 0.2.\n",
        "\n",
        "7. The seventh layer is a LSTM layer with **32 units**.\n",
        "\n",
        "8. Dropout layer with rate = 0.2.\n",
        "\n",
        "9. The last layer is a **Dense layer with no activation** as it is an regression problem.\n",
        "\n",
        "\n",
        "\n"
      ]
    },
    {
      "cell_type": "code",
      "metadata": {
        "id": "I42vrC0-GvfZ"
      },
      "source": [
        "import keras\n",
        "from keras.layers import Dense, Dropout, LSTM, Input\n",
        "from keras.models import Sequential, Model\n",
        "\n",
        "def build_model():\n",
        "    model = Sequential([\n",
        "        LSTM(64, return_sequences = True, input_shape = X_train[0].shape),\n",
        "        Dropout(0.2),\n",
        "        \n",
        "        LSTM(64, return_sequences = True),\n",
        "        Dropout(0.2),\n",
        "        \n",
        "        LSTM(32,  return_sequences = True),\n",
        "        Dropout(0.2),\n",
        "        \n",
        "        LSTM(32),\n",
        "        Dropout(0.2),\n",
        "        \n",
        "        Dense(1)\n",
        "    ])\n",
        "    \n",
        "    model.compile(optimizer = 'adam', loss = 'mse')\n",
        "    model.summary()\n",
        "    return model"
      ],
      "execution_count": null,
      "outputs": []
    },
    {
      "cell_type": "code",
      "metadata": {
        "id": "FjWCJ0YzGvfa"
      },
      "source": [
        "model = build_model()\n"
      ],
      "execution_count": null,
      "outputs": []
    },
    {
      "cell_type": "code",
      "metadata": {
        "id": "_ljrthURSeai"
      },
      "source": [
        "# import keras\n",
        "# model = keras.models.load_model('/content/btc_model.h5')"
      ],
      "execution_count": null,
      "outputs": []
    },
    {
      "cell_type": "code",
      "metadata": {
        "colab": {
          "base_uri": "https://localhost:8080/"
        },
        "id": "J1t7_FleGvfb",
        "outputId": "942162b5-b49d-4374-e095-fe5c11b3933f"
      },
      "source": [
        "# training the model\n",
        "hist = model.fit(X_train, y_train, epochs = 50, batch_size = 128)"
      ],
      "execution_count": null,
      "outputs": [
        {
          "output_type": "stream",
          "text": [
            "Epoch 1/50\n",
            "65/65 [==============================] - 8s 61ms/step - loss: 4.6181e-04\n",
            "Epoch 2/50\n",
            "65/65 [==============================] - 4s 61ms/step - loss: 4.2396e-04\n",
            "Epoch 3/50\n",
            "65/65 [==============================] - 4s 62ms/step - loss: 4.2139e-04\n",
            "Epoch 4/50\n",
            "65/65 [==============================] - 4s 61ms/step - loss: 4.1087e-04\n",
            "Epoch 5/50\n",
            "65/65 [==============================] - 4s 61ms/step - loss: 4.2265e-04\n",
            "Epoch 6/50\n",
            "65/65 [==============================] - 4s 61ms/step - loss: 4.4944e-04\n",
            "Epoch 7/50\n",
            "65/65 [==============================] - 4s 61ms/step - loss: 4.2764e-04\n",
            "Epoch 8/50\n",
            "65/65 [==============================] - 4s 62ms/step - loss: 4.3739e-04\n",
            "Epoch 9/50\n",
            "65/65 [==============================] - 4s 62ms/step - loss: 4.3258e-04\n",
            "Epoch 10/50\n",
            "65/65 [==============================] - 4s 61ms/step - loss: 4.3378e-04\n",
            "Epoch 11/50\n",
            "65/65 [==============================] - 4s 61ms/step - loss: 4.3724e-04\n",
            "Epoch 12/50\n",
            "65/65 [==============================] - 4s 61ms/step - loss: 4.5426e-04\n",
            "Epoch 13/50\n",
            "65/65 [==============================] - 4s 61ms/step - loss: 4.5164e-04\n",
            "Epoch 14/50\n",
            "65/65 [==============================] - 4s 61ms/step - loss: 4.0996e-04\n",
            "Epoch 15/50\n",
            "65/65 [==============================] - 4s 61ms/step - loss: 4.1504e-04\n",
            "Epoch 16/50\n",
            "65/65 [==============================] - 4s 61ms/step - loss: 4.5838e-04\n",
            "Epoch 17/50\n",
            "65/65 [==============================] - 4s 61ms/step - loss: 4.4129e-04\n",
            "Epoch 18/50\n",
            "65/65 [==============================] - 4s 61ms/step - loss: 4.0816e-04\n",
            "Epoch 19/50\n",
            "65/65 [==============================] - 4s 61ms/step - loss: 4.3779e-04\n",
            "Epoch 20/50\n",
            "65/65 [==============================] - 4s 62ms/step - loss: 4.3979e-04\n",
            "Epoch 21/50\n",
            "65/65 [==============================] - 4s 61ms/step - loss: 4.0970e-04\n",
            "Epoch 22/50\n",
            "65/65 [==============================] - 4s 61ms/step - loss: 4.5024e-04\n",
            "Epoch 23/50\n",
            "65/65 [==============================] - 4s 61ms/step - loss: 4.2970e-04\n",
            "Epoch 24/50\n",
            "65/65 [==============================] - 4s 61ms/step - loss: 4.3866e-04\n",
            "Epoch 25/50\n",
            "65/65 [==============================] - 4s 61ms/step - loss: 4.1171e-04\n",
            "Epoch 26/50\n",
            "65/65 [==============================] - 4s 61ms/step - loss: 4.2408e-04\n",
            "Epoch 27/50\n",
            "65/65 [==============================] - 4s 61ms/step - loss: 4.3739e-04\n",
            "Epoch 28/50\n",
            "65/65 [==============================] - 4s 61ms/step - loss: 4.6220e-04\n",
            "Epoch 29/50\n",
            "65/65 [==============================] - 4s 61ms/step - loss: 4.1561e-04\n",
            "Epoch 30/50\n",
            "65/65 [==============================] - 4s 61ms/step - loss: 4.6150e-04\n",
            "Epoch 31/50\n",
            "65/65 [==============================] - 4s 61ms/step - loss: 4.1642e-04\n",
            "Epoch 32/50\n",
            "65/65 [==============================] - 4s 61ms/step - loss: 3.8823e-04\n",
            "Epoch 33/50\n",
            "65/65 [==============================] - 4s 61ms/step - loss: 4.6875e-04\n",
            "Epoch 34/50\n",
            "65/65 [==============================] - 4s 62ms/step - loss: 4.7188e-04\n",
            "Epoch 35/50\n",
            "65/65 [==============================] - 4s 61ms/step - loss: 4.3310e-04\n",
            "Epoch 36/50\n",
            "65/65 [==============================] - 4s 62ms/step - loss: 4.2278e-04\n",
            "Epoch 37/50\n",
            "65/65 [==============================] - 4s 61ms/step - loss: 4.1754e-04\n",
            "Epoch 38/50\n",
            "65/65 [==============================] - 4s 61ms/step - loss: 4.6980e-04\n",
            "Epoch 39/50\n",
            "65/65 [==============================] - 4s 61ms/step - loss: 4.2419e-04\n",
            "Epoch 40/50\n",
            "65/65 [==============================] - 4s 61ms/step - loss: 3.8825e-04\n",
            "Epoch 41/50\n",
            "65/65 [==============================] - 4s 61ms/step - loss: 4.3944e-04\n",
            "Epoch 42/50\n",
            "65/65 [==============================] - 4s 61ms/step - loss: 4.2663e-04\n",
            "Epoch 43/50\n",
            "65/65 [==============================] - 4s 61ms/step - loss: 4.0581e-04\n",
            "Epoch 44/50\n",
            "65/65 [==============================] - 4s 61ms/step - loss: 4.3624e-04\n",
            "Epoch 45/50\n",
            "65/65 [==============================] - 4s 61ms/step - loss: 4.3088e-04\n",
            "Epoch 46/50\n",
            "65/65 [==============================] - 4s 62ms/step - loss: 4.3299e-04\n",
            "Epoch 47/50\n",
            "65/65 [==============================] - 4s 62ms/step - loss: 4.6122e-04\n",
            "Epoch 48/50\n",
            "65/65 [==============================] - 4s 61ms/step - loss: 4.5609e-04\n",
            "Epoch 49/50\n",
            "65/65 [==============================] - 4s 61ms/step - loss: 4.5326e-04\n",
            "Epoch 50/50\n",
            "65/65 [==============================] - 4s 61ms/step - loss: 3.8735e-04\n"
          ],
          "name": "stdout"
        }
      ]
    },
    {
      "cell_type": "code",
      "metadata": {
        "id": "MBRobPT1Ku4y"
      },
      "source": [
        "model.save('btc_model.h5')"
      ],
      "execution_count": null,
      "outputs": []
    },
    {
      "cell_type": "markdown",
      "metadata": {
        "id": "dyMoL8e5XGEB"
      },
      "source": [
        "**Loss vs epoch curve**\n",
        "\n",
        "![image.png](data:image/png;base64,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)"
      ]
    },
    {
      "cell_type": "code",
      "metadata": {
        "colab": {
          "base_uri": "https://localhost:8080/",
          "height": 298
        },
        "id": "9NniR2a-Gvfc",
        "outputId": "2f47cb1d-77d8-4d53-bce5-75cea8ef1489"
      },
      "source": [
        "# plot of actual and predicted price\n",
        "\n",
        "y_pred = model.predict(X_test)\n",
        "plt.plot(y_test/scaler.scale_[0], label = 'actual')\n",
        "plt.plot(y_pred/scaler.scale_[0], label = 'predicted')\n",
        "plt.legend()\n",
        "plt.title('BTC')"
      ],
      "execution_count": null,
      "outputs": [
        {
          "output_type": "execute_result",
          "data": {
            "text/plain": [
              "Text(0.5, 1.0, 'BTC')"
            ]
          },
          "metadata": {
            "tags": []
          },
          "execution_count": 148
        },
        {
          "output_type": "display_data",
          "data": {
            "image/png": "[encoded data removed]",
            "text/plain": [
              "<Figure size 432x288 with 1 Axes>"
            ]
          },
          "metadata": {
            "tags": [],
            "needs_background": "light"
          }
        }
      ]
    },
    {
      "cell_type": "code",
      "metadata": {
        "id": "Cdx-qe3QNhhp"
      },
      "source": [
        "# plt.plot(model.predict(X_train[-30: ])/scaler.scale_[0])"
      ],
      "execution_count": null,
      "outputs": []
    },
    {
      "cell_type": "code",
      "metadata": {
        "colab": {
          "base_uri": "https://localhost:8080/"
        },
        "id": "M46Ti8xqX8-r",
        "outputId": "fd721130-e28c-4a99-8335-7b619b14eee6"
      },
      "source": [
        "y_pred = model.predict(X_test)/scaler.scale_[0]\n",
        "y_pred"
      ],
      "execution_count": null,
      "outputs": [
        {
          "output_type": "execute_result",
          "data": {
            "text/plain": [
              "array([[36596.723]], dtype=float32)"
            ]
          },
          "metadata": {
            "tags": []
          },
          "execution_count": 165
        }
      ]
    },
    {
      "cell_type": "code",
      "metadata": {
        "colab": {
          "base_uri": "https://localhost:8080/",
          "height": 225
        },
        "id": "pmh-d2hCNy9r",
        "outputId": "d92be6b8-5465-4e34-9eb1-212ff72f7c41"
      },
      "source": [
        "df.tail()"
      ],
      "execution_count": null,
      "outputs": [
        {
          "output_type": "execute_result",
          "data": {
            "text/html": [
              "<div>\n",
              "<style scoped>\n",
              "    .dataframe tbody tr th:only-of-type {\n",
              "        vertical-align: middle;\n",
              "    }\n",
              "\n",
              "    .dataframe tbody tr th {\n",
              "        vertical-align: top;\n",
              "    }\n",
              "\n",
              "    .dataframe thead th {\n",
              "        text-align: right;\n",
              "    }\n",
              "</style>\n",
              "<table border=\"1\" class=\"dataframe\">\n",
              "  <thead>\n",
              "    <tr style=\"text-align: right;\">\n",
              "      <th></th>\n",
              "      <th>open</th>\n",
              "      <th>high</th>\n",
              "      <th>low</th>\n",
              "      <th>close</th>\n",
              "      <th>volume</th>\n",
              "    </tr>\n",
              "    <tr>\n",
              "      <th>date</th>\n",
              "      <th></th>\n",
              "      <th></th>\n",
              "      <th></th>\n",
              "      <th></th>\n",
              "      <th></th>\n",
              "    </tr>\n",
              "  </thead>\n",
              "  <tbody>\n",
              "    <tr>\n",
              "      <th>2021-06-02 16:00:00</th>\n",
              "      <td>38040.69</td>\n",
              "      <td>38200.00</td>\n",
              "      <td>37727.37</td>\n",
              "      <td>37884.57</td>\n",
              "      <td>9291.591592</td>\n",
              "    </tr>\n",
              "    <tr>\n",
              "      <th>2021-06-02 20:00:00</th>\n",
              "      <td>37884.58</td>\n",
              "      <td>37929.97</td>\n",
              "      <td>37320.00</td>\n",
              "      <td>37568.68</td>\n",
              "      <td>7443.990253</td>\n",
              "    </tr>\n",
              "    <tr>\n",
              "      <th>2021-06-03 00:00:00</th>\n",
              "      <td>37568.68</td>\n",
              "      <td>37903.14</td>\n",
              "      <td>37170.00</td>\n",
              "      <td>37634.57</td>\n",
              "      <td>8381.714112</td>\n",
              "    </tr>\n",
              "    <tr>\n",
              "      <th>2021-06-03 04:00:00</th>\n",
              "      <td>37635.24</td>\n",
              "      <td>39039.19</td>\n",
              "      <td>37600.00</td>\n",
              "      <td>38634.09</td>\n",
              "      <td>16294.658537</td>\n",
              "    </tr>\n",
              "    <tr>\n",
              "      <th>2021-06-03 08:00:00</th>\n",
              "      <td>38634.77</td>\n",
              "      <td>39420.77</td>\n",
              "      <td>38518.96</td>\n",
              "      <td>39318.51</td>\n",
              "      <td>7857.589835</td>\n",
              "    </tr>\n",
              "  </tbody>\n",
              "</table>\n",
              "</div>"
            ],
            "text/plain": [
              "                         open      high       low     close        volume\n",
              "date                                                                     \n",
              "2021-06-02 16:00:00  38040.69  38200.00  37727.37  37884.57   9291.591592\n",
              "2021-06-02 20:00:00  37884.58  37929.97  37320.00  37568.68   7443.990253\n",
              "2021-06-03 00:00:00  37568.68  37903.14  37170.00  37634.57   8381.714112\n",
              "2021-06-03 04:00:00  37635.24  39039.19  37600.00  38634.09  16294.658537\n",
              "2021-06-03 08:00:00  38634.77  39420.77  38518.96  39318.51   7857.589835"
            ]
          },
          "metadata": {
            "tags": []
          },
          "execution_count": 166
        }
      ]
    },
    {
      "cell_type": "code",
      "metadata": {
        "id": "yF-qlyE9Pmbl"
      },
      "source": [
        "per_change = 100 * (model.predict(X_test) - model.predict(X_train[-1 : ]))/model.predict(X_train[-1 : ])"
      ],
      "execution_count": null,
      "outputs": []
    },
    {
      "cell_type": "code",
      "metadata": {
        "colab": {
          "base_uri": "https://localhost:8080/"
        },
        "id": "5X89jYNGP6uo",
        "outputId": "b270ee55-37f6-4ae4-c55e-e2227cd2a03a"
      },
      "source": [
        "per_change"
      ],
      "execution_count": null,
      "outputs": [
        {
          "output_type": "execute_result",
          "data": {
            "text/plain": [
              "array([[1.9172245]], dtype=float32)"
            ]
          },
          "metadata": {
            "tags": []
          },
          "execution_count": 169
        }
      ]
    },
    {
      "cell_type": "markdown",
      "metadata": {
        "id": "H07Fg-SAXZFK"
      },
      "source": [
        "#### We see a 1.91 % average error on our validation set and also the plot of actual and predicted looks very similar.\n",
        "\n",
        "I tested the model with late predictions like (1 day, 2 day) but some times model encounters high error as crypto market is high volatile and very news-driven, the problem can be solved by retraining the model with newer instances.\n",
        "\n"
      ]
    },
    {
      "cell_type": "code",
      "metadata": {
        "id": "FIn2xDhcYrON"
      },
      "source": [
        ""
      ],
      "execution_count": null,
      "outputs": []
    }
  ]
}